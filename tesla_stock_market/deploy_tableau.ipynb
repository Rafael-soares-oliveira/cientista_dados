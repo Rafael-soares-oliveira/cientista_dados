{
 "cells": [
  {
   "cell_type": "code",
   "execution_count": 5,
   "metadata": {},
   "outputs": [],
   "source": [
    "import pandas as pd\n",
    "import numpy as np\n",
    "from tabpy.tabpy_tools.client import Client"
   ]
  },
  {
   "cell_type": "code",
   "execution_count": 6,
   "metadata": {},
   "outputs": [],
   "source": [
    "# Function to Deploy to Tableau\n",
    "def deploy_tableau(title, function, description):\n",
    "  client = Client('http://localhost:9004/')\n",
    "  client.deploy(\n",
    "    title,\n",
    "    function,\n",
    "    description,\n",
    "    override=True\n",
    "  )"
   ]
  },
  {
   "cell_type": "code",
   "execution_count": 4,
   "metadata": {},
   "outputs": [],
   "source": [
    "def rsi(_arg1, window):\n",
    "    \"\"\"Calculate\n",
    "\n",
    "    Args:\n",
    "        _arg1 (_type_): _description_\n",
    "        window (_type_): _description_\n",
    "\n",
    "    Returns:\n",
    "        _type_: _description_\n",
    "    \"\"\"\n",
    "    import ta.momentum\n",
    "    import pandas as pd\n",
    "    _arg1 = pd.Series(_arg1)\n",
    "    window = window[0]\n",
    "    x = ta.momentum.RSIIndicator(_arg1, window=window).rsi()\n",
    "    x = x.fillna(0)\n",
    "    return x.tolist()\n",
    "\n",
    "deploy_tableau(\"RSI\",rsi,\"Calculate the RSI\")"
   ]
  },
  {
   "cell_type": "code",
   "execution_count": 11,
   "metadata": {},
   "outputs": [],
   "source": [
    "def seasonal_decompose_residuals(_arg1:list, _arg2:list):\n",
    "    from statsmodels.tsa.seasonal import seasonal_decompose\n",
    "    decomposition = seasonal_decompose(_arg1, model=\"additive\", period=_arg2[0])\n",
    "    resid = pd.Series(decomposition.resid).fillna(0)\n",
    "    return resid.tolist()\n",
    "\n",
    "deploy_tableau(\n",
    "    \"Residuals\",\n",
    "    seasonal_decompose_residuals,\n",
    "    \"Seasonal Decompose Residuals\"\n",
    ")"
   ]
  },
  {
   "cell_type": "code",
   "execution_count": 15,
   "metadata": {},
   "outputs": [],
   "source": [
    "def seasonal_decompose_seasonal(_arg1:list, _arg2:list):\n",
    "    from statsmodels.tsa.seasonal import seasonal_decompose\n",
    "    decomposition = seasonal_decompose(_arg1, model=\"additive\", period=_arg2[0])\n",
    "    seasonal = pd.Series(decomposition.seasonal).fillna(0)\n",
    "    return seasonal.tolist()\n",
    "\n",
    "deploy_tableau(\n",
    "    \"Seasonal\",\n",
    "    seasonal_decompose_seasonal,\n",
    "    \"Seasonal Decompose Seasonal\"\n",
    ")"
   ]
  },
  {
   "cell_type": "code",
   "execution_count": 20,
   "metadata": {},
   "outputs": [],
   "source": [
    "def exponencial_moving_average(_arg1:list, _arg2:list):\n",
    "    import pandas as pd\n",
    "    # Definir o período da EMA\n",
    "    periodo_ema = _arg2[0]\n",
    "    # Calcular a EMA\n",
    "    ema = pd.Series(_arg1).ewm(span=periodo_ema, adjust=False).mean()\n",
    "    return ema.tolist()\n",
    "\n",
    "deploy_tableau(\n",
    "    \"EMA\",\n",
    "    exponencial_moving_average,\n",
    "    \"Exponencial Moving Average\"\n",
    ")"
   ]
  }
 ],
 "metadata": {
  "kernelspec": {
   "display_name": "venv",
   "language": "python",
   "name": "python3"
  },
  "language_info": {
   "codemirror_mode": {
    "name": "ipython",
    "version": 3
   },
   "file_extension": ".py",
   "mimetype": "text/x-python",
   "name": "python",
   "nbconvert_exporter": "python",
   "pygments_lexer": "ipython3",
   "version": "3.12.8"
  }
 },
 "nbformat": 4,
 "nbformat_minor": 2
}
