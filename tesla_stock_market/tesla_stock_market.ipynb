{
 "cells": [
  {
   "cell_type": "markdown",
   "metadata": {},
   "source": [
    "<h1 style=\"font-size: 18px;\"> Tesla Stock Dataset from 2010 to 2021</h1>\n",
    "<span style=\"font-size: 14px;\">Source: https://www.kaggle.com/datasets/abhimaneukj/tesla-inc-tsla-dataset</span>"
   ]
  },
  {
   "cell_type": "markdown",
   "metadata": {},
   "source": [
    "# <h1 style=\"font-size: 18px;\">Info</h1>"
   ]
  },
  {
   "cell_type": "markdown",
   "metadata": {},
   "source": [
    "Columns:\n",
    "  - Date: represents the date at which the share is traded in the stock market.\n",
    "  - Open: represents the opening price of the stock at a particular date. It is the price at which a stock started trading when the opening bell rang.\n",
    "  - Close: represents the closing price of the stock at a particular date. It is the last buy-sell order executed between two traders. The closing prices is the raw price, which is just the cash of the last transacted price before the market closes.\n",
    "  - High: the high is the highest price at which a stock is traded during a period. Here the period is a day.\n",
    "  - Low: the low is the lowest price at which a stock is traded during a period. Here the period is a day.\n",
    "  - Adj Close: the adjusted closing price amends a stock's closing price to reflect that stock's value after accounting for any corporate actions. The adjusted closing price factors in corporate actions, such as stock splits, dividends, and rights offerings.\n",
    "  - Volume: volume is the number of shares of security traded during a given period of time. Here the security is stock and the period of time is a day."
   ]
  },
  {
   "cell_type": "markdown",
   "metadata": {},
   "source": [
    "# <h1 style=\"font-size: 18px;\">Library</h1>"
   ]
  },
  {
   "cell_type": "code",
   "execution_count": 3,
   "metadata": {},
   "outputs": [],
   "source": [
    "\n",
    "import pandas as pd\n",
    "import numpy as np\n",
    "import ta.momentum\n",
    "import warnings\n",
    "\n",
    "# Visualize\n",
    "import matplotlib.pyplot as plt\n",
    "import seaborn as sns\n",
    "\n",
    "# Metrics\n",
    "from sklearn.metrics import mean_absolute_error, mean_squared_error, r2_score\n",
    "\n",
    "# Preprocessing\n",
    "from sklearn.preprocessing import MinMaxScaler, StandardScaler\n",
    "\n",
    "# Model\n",
    "from keras.models import Sequential\n",
    "from keras.layers import LSTM, Dense\n",
    "from sklearn.decomposition import PCA\n",
    "from sklearn.metrics import mean_absolute_error, mean_squared_error\n",
    "\n",
    "# Temporal Analysis\n",
    "from statsmodels.tsa.seasonal import seasonal_decompose\n",
    "from statsmodels.graphics.tsaplots import plot_acf, plot_pacf\n",
    "from scipy.fft import fft, ifft\n",
    "from statsmodels.tsa.arima.model import ARIMA\n",
    "from statsmodels.tsa.stattools import adfuller, kpss"
   ]
  },
  {
   "cell_type": "code",
   "execution_count": null,
   "metadata": {},
   "outputs": [],
   "source": [
    "# Import Data\n",
    "df = pd.read_csv(\"TSLA.csv\")"
   ]
  },
  {
   "cell_type": "code",
   "execution_count": 5,
   "metadata": {},
   "outputs": [],
   "source": [
    "# Transform Date column to Datetime\n",
    "df[\"Date\"] = pd.to_datetime(df[\"Date\"])"
   ]
  },
  {
   "cell_type": "code",
   "execution_count": null,
   "metadata": {},
   "outputs": [],
   "source": [
    "# Plot temporal chart for each independent variable\n",
    "# Adjusting the figure size\n",
    "fig = plt.subplots(figsize=(16, 5))\n",
    "\n",
    "# Creating a plot\n",
    "plt.plot(df[\"Date\"], df[\"Close\"])\n",
    "\n",
    "# Adding axis labels and customizing their font size\n",
    "plt.xlabel('Date', fontsize=12)\n",
    "plt.title(\"Close Values\", fontsize=14)\n",
    "\n",
    "# Rotaing axis ticks and customizing their font size\n",
    "plt.xticks(rotation=30, fontsize=10)\n",
    "\n",
    "plt.show()"
   ]
  },
  {
   "cell_type": "code",
   "execution_count": 6,
   "metadata": {},
   "outputs": [],
   "source": [
    "df_2020 = df[df[\"Date\"].dt.year >= 2020]\n",
    "df_2020 = df_2020.reset_index(level=None, drop=True)"
   ]
  },
  {
   "cell_type": "code",
   "execution_count": null,
   "metadata": {},
   "outputs": [],
   "source": [
    "# Plot temporal chart for each independent variable\n",
    "# Adjusting the figure size\n",
    "fig = plt.subplots(figsize=(16, 5))\n",
    "\n",
    "# Creating a plot\n",
    "plt.plot(df_2020[\"Date\"], df_2020[\"Close\"])\n",
    "\n",
    "# Adding axis labels and customizing their font size\n",
    "plt.xlabel('Date', fontsize=12)\n",
    "plt.title(\"Close Values\", fontsize=14)\n",
    "\n",
    "# Rotaing axis ticks and customizing their font size\n",
    "plt.xticks(rotation=30, fontsize=10)\n",
    "\n",
    "plt.show()"
   ]
  },
  {
   "cell_type": "markdown",
   "metadata": {},
   "source": [
    "# <h1 style=\"font-size: 18px;\">Correlation Closing Price x Volume</h1>"
   ]
  },
  {
   "cell_type": "code",
   "execution_count": null,
   "metadata": {},
   "outputs": [],
   "source": [
    "import numpy as np\n",
    "from scipy.stats import spearmanr, kendalltau\n",
    "\n",
    "# Correlação de Spearman\n",
    "spearman_corr, _ = spearmanr(df_2020[\"Close\"], df_2020[\"Volume\"])\n",
    "print(f'Coeficiente de correlação de Spearman: {spearman_corr}')\n",
    "spearman_coef = np.polyfit(df_2020[\"Close\"], df_2020[\"Volume\"], 1)\n",
    "print(f'Equação da linha de regressão: y = {\n",
    "    round(spearman_coef[0], 3)\n",
    "    }x + {\n",
    "        round(spearman_coef[1], 3)\n",
    "        }')\n",
    "\n",
    "print()\n",
    "\n",
    "# Correlação de Kendall\n",
    "kendall_corr, _ = kendalltau(df_2020[\"Close\"], df_2020[\"Volume\"])\n",
    "print(f'Coeficiente de correlação de Kendall: {kendall_corr}')\n",
    "kendall_coef = np.polyfit(df_2020[\"Close\"], df_2020[\"Volume\"], 1)\n",
    "print(f'Equação da linha de regressão: y = {\n",
    "    round(kendall_coef[0], 3)\n",
    "    }x + {\n",
    "        round(kendall_coef[1], 3)\n",
    "        }')"
   ]
  },
  {
   "cell_type": "code",
   "execution_count": null,
   "metadata": {},
   "outputs": [],
   "source": [
    "# Plotagem do gráfico\n",
    "plt.figure(figsize=(15,6))\n",
    "plt.scatter(df_2020[\"Close\"], df_2020[\"Volume\"], color='blue', label='Dados')\n",
    "plt.plot(df_2020[\"Close\"], np.polyval(kendall_coef, df_2020[\"Close\"]), color='red', label='Linha de Regressão')\n",
    "plt.xlabel('Close')\n",
    "plt.ylabel('Volume')\n",
    "plt.title('Gráfico de Dispersão e Linha de Regressão')\n",
    "plt.legend()\n",
    "plt.show()"
   ]
  },
  {
   "cell_type": "markdown",
   "metadata": {},
   "source": [
    "# <h1 style=\"font-size: 18px;\">Early Analysis</h1>"
   ]
  },
  {
   "cell_type": "code",
   "execution_count": null,
   "metadata": {},
   "outputs": [],
   "source": [
    "# Plot density curve\n",
    "sns.kdeplot(df_2020, x=\"Close\")\n",
    "plt.show()"
   ]
  },
  {
   "cell_type": "code",
   "execution_count": null,
   "metadata": {},
   "outputs": [],
   "source": [
    "# Plot boxplot for outliers\n",
    "sns.boxplot(df_2020, x=\"Close\")\n",
    "plt.show()"
   ]
  },
  {
   "cell_type": "markdown",
   "metadata": {},
   "source": [
    "# <h1 style=\"font-size: 18px;\">RSI</h1>"
   ]
  },
  {
   "cell_type": "code",
   "execution_count": 32,
   "metadata": {},
   "outputs": [],
   "source": [
    "# Create column with RSI\n",
    "df_2020[\"RSI\"] = ta.momentum.RSIIndicator(df_2020[\"Close\"], window=14).rsi()"
   ]
  },
  {
   "cell_type": "code",
   "execution_count": null,
   "metadata": {},
   "outputs": [],
   "source": [
    "# Plot RSI\n",
    "plt.figure(figsize=(15,10))\n",
    "\n",
    "plt.plot(df_2020[\"Date\"], df_2020[\"RSI\"])\n",
    "\n",
    "# Adding axis labels and customizing their font size\n",
    "plt.xlabel('Date', fontsize=12)\n",
    "plt.title(\"RSI\", fontsize=14)\n",
    "\n",
    "plt.fill_between(\n",
    "    df_2020[\"Date\"],\n",
    "    70,\n",
    "    max(df_2020[\"RSI\"].dropna()),\n",
    "    alpha=0.2,\n",
    "    label=\"Overbought\"\n",
    ")\n",
    "\n",
    "plt.fill_between(\n",
    "    df_2020[\"Date\"],\n",
    "    min(df_2020[\"RSI\"].dropna()),\n",
    "    30,\n",
    "    alpha=0.2,\n",
    "    label=\"Oversold\"\n",
    ")\n",
    "\n",
    "plt.text(x=df_2020[\"Date\"][0], y=71, s=\"Overbought\",rotation=90)\n",
    "plt.text(x=df_2020[\"Date\"][0], y=min(df_2020[\"RSI\"].dropna()), s=\"Oversold\",rotation=90)\n",
    "\n",
    "# Rotaing axis ticks and customizing their font size\n",
    "plt.xticks(rotation=30, fontsize=10)\n",
    "\n",
    "plt.show()"
   ]
  },
  {
   "cell_type": "code",
   "execution_count": null,
   "metadata": {},
   "outputs": [],
   "source": [
    "# Plot RSI\n",
    "fig, ax1 = plt.subplots(figsize=(20,10))\n",
    "\n",
    "ax1.plot(df_2020[\"Date\"], df_2020[\"RSI\"], label=\"RSI\", color=\"blue\", alpha=0.25)\n",
    "ax1.set_ylabel('RSI', fontsize=12)\n",
    "ax1.tick_params(axis='y', labelcolor='blue')\n",
    "\n",
    "ax1.fill_between(\n",
    "    df_2020[\"Date\"],\n",
    "    70,\n",
    "    max(df_2020[\"RSI\"].dropna()),\n",
    "    alpha=0.2,\n",
    "    label=\"Overbought\"\n",
    ")\n",
    "\n",
    "ax1.fill_between(\n",
    "    df_2020[\"Date\"],\n",
    "    min(df_2020[\"RSI\"].dropna()),\n",
    "    30,\n",
    "    alpha=0.2,\n",
    "    label=\"Oversold\"\n",
    ")\n",
    "\n",
    "ax1.text(x=df_2020[\"Date\"][0], y=71, s=\"Overbought\",rotation=90)\n",
    "ax1.text(x=df_2020[\"Date\"][0], y=min(df_2020[\"RSI\"].dropna()), s=\"Oversold\",rotation=90)\n",
    "\n",
    "ax1.axhline(50)\n",
    "\n",
    "\n",
    "ax2 = ax1.twinx()\n",
    "ax2.plot(df_2020[\"Date\"], df_2020[\"Close\"], label=\"Close\", color=\"red\")\n",
    "ax2.set_ylabel('Close', fontsize=12)\n",
    "ax2.tick_params(axis='y', labelcolor='red')\n",
    "\n",
    "# Rotaing axis ticks and customizing their font size\n",
    "plt.xlabel('Date', fontsize=12)\n",
    "plt.xticks(rotation=30, fontsize=10)\n",
    "plt.title(\"RSI x Stock Price - Close\", fontsize=14)\n",
    "\n",
    "plt.show()"
   ]
  },
  {
   "cell_type": "markdown",
   "metadata": {},
   "source": [
    "# <h1 style=\"font-size: 18px;\">Diary Return</h1>"
   ]
  },
  {
   "cell_type": "code",
   "execution_count": 35,
   "metadata": {},
   "outputs": [],
   "source": [
    "# Create column with % Diary Return\n",
    "df_2020[\"Diary_Return\"] = df_2020[\"Close\"].pct_change()"
   ]
  },
  {
   "cell_type": "code",
   "execution_count": null,
   "metadata": {},
   "outputs": [],
   "source": [
    "plt.figure(figsize=(15, 6))\n",
    "plt.plot(df_2020[\"Date\"], df_2020[\"Diary_Return\"])\n",
    "\n",
    "# Adding axis labels and customizing their font size\n",
    "plt.title(\"Diary Return\", fontsize=14)\n",
    "\n",
    "plt.show()"
   ]
  },
  {
   "cell_type": "markdown",
   "metadata": {},
   "source": [
    "# <h1 style=\"font-size: 18px;\">Seasonal</h1>"
   ]
  },
  {
   "cell_type": "code",
   "execution_count": null,
   "metadata": {},
   "outputs": [],
   "source": [
    "# Seasonal Decompose\n",
    "decomposition = seasonal_decompose(df_2020[\"Close\"], model=\"additive\", period=12)\n",
    "\n",
    "# Decompose of temporal series\n",
    "\n",
    "plt.figure(figsize=(12, 12))\n",
    "plt.subplot(411)\n",
    "plt.plot(df_2020[\"Close\"])\n",
    "plt.title(\"Original\")\n",
    "\n",
    "plt.subplot(412)\n",
    "plt.plot(decomposition.trend)\n",
    "plt.title(\"Trend\")\n",
    "\n",
    "plt.subplot(413)\n",
    "plt.plot(decomposition.seasonal)\n",
    "plt.title(\"Seasonal\")\n",
    "\n",
    "plt.subplot(414)\n",
    "plt.plot(decomposition.resid)\n",
    "plt.title(\"Residual\")\n",
    "\n",
    "plt.tight_layout()\n",
    "plt.show()"
   ]
  },
  {
   "cell_type": "code",
   "execution_count": null,
   "metadata": {},
   "outputs": [],
   "source": [
    "decomposition.resid.fillna(0).tolist()"
   ]
  },
  {
   "cell_type": "code",
   "execution_count": 122,
   "metadata": {},
   "outputs": [],
   "source": [
    "def seasonal_decompose_residuals(_arg1:list, _arg2:list):\n",
    "    from statsmodels.tsa.seasonal import seasonal_decompose\n",
    "    decomposition = seasonal_decompose(_arg1, model=\"additive\", period=_arg2[0])\n",
    "    resid = pd.Series(decomposition.resid).fillna(0)\n",
    "    return resid.tolist()"
   ]
  },
  {
   "cell_type": "code",
   "execution_count": null,
   "metadata": {},
   "outputs": [],
   "source": [
    "plt.figure(figsize=(15,6))\n",
    "plt.plot(df_2020[\"Date\"], seasonal_decompose_residuals(df_2020[\"Close\"].tolist(), [12]))\n",
    "plt.show()"
   ]
  },
  {
   "cell_type": "code",
   "execution_count": null,
   "metadata": {},
   "outputs": [],
   "source": [
    "plt.figure(figsize=(15, 12))\n",
    "\n",
    "plt.subplot(211)\n",
    "plt.plot(df_2020[\"Close\"]-decomposition.resid, color=\"red\", label=\"Close Without Residuals\")\n",
    "plt.plot(df_2020[\"Close\"], color=\"blue\", label=\"Close Original\", alpha=0.3)\n",
    "plt.legend()\n",
    "\n",
    "plt.subplot(212)\n",
    "plt.plot(df_2020[\"Close\"]-decomposition.seasonal, color=\"red\", label=\"Close Without Seasonal\")\n",
    "plt.plot(df_2020[\"Close\"], color=\"blue\", label=\"Close Original\")\n",
    "plt.legend()\n",
    "\n",
    "plt.show()"
   ]
  },
  {
   "cell_type": "markdown",
   "metadata": {},
   "source": [
    "# <h1 style=\"font-size: 18px;\">Autocorrelation</h1>"
   ]
  },
  {
   "cell_type": "code",
   "execution_count": null,
   "metadata": {},
   "outputs": [],
   "source": [
    "# Autocorrelation ACF\n",
    "for year in set(df_2020[\"Date\"].dt.year):\n",
    "    fig, ax1 = plt.subplots(1, 1, figsize=(15,6))\n",
    "    plot_acf(df_2020[df_2020[\"Date\"].dt.year == year][\"Close\"], ax=ax1)\n",
    "    ax1.set_title(f\"Autocorrelation - {year}\")\n",
    "    plt.show()"
   ]
  },
  {
   "cell_type": "markdown",
   "metadata": {},
   "source": [
    "# <h1 style=\"font-size: 18px;\">Fourier Analysis</h1>"
   ]
  },
  {
   "cell_type": "code",
   "execution_count": null,
   "metadata": {},
   "outputs": [],
   "source": [
    "# Apply FFT\n",
    "fft_values = fft(df_2020[\"Close\"])\n",
    "frequencies = np.fft.fftfreq(len(fft_values))\n",
    "\n",
    "# Calculate the magnitude of the FFT values\n",
    "magnitude_fft_values = np.abs(fft_values)\n",
    "\n",
    "\n",
    "# Set a higher threshold to retain more significant frequencies\n",
    "threshold = np.mean(magnitude_fft_values) * 0.5\n",
    "filtered_fft_values = np.where(magnitude_fft_values > threshold, fft_values, 0)\n",
    "\n",
    "# Filter and reconstruct the signal\n",
    "reconstructed_signal = ifft(filtered_fft_values)\n",
    "\n",
    "# Plot original and reconstructed data\n",
    "plt.figure(figsize=(25, 10))\n",
    "plt.plot(df_2020[\"Date\"], df_2020[\"Close\"], label='Original Data', marker='o')\n",
    "plt.plot(df_2020[\"Date\"], reconstructed_signal, label='Reconstructed Signal', marker='x')\n",
    "plt.legend()\n",
    "plt.title('Fourier Analysis of Stock Prices')\n",
    "plt.plot()"
   ]
  },
  {
   "cell_type": "markdown",
   "metadata": {},
   "source": [
    "# <h1 style=\"font-size: 18px;\">Moving Average - SMA</h1>"
   ]
  },
  {
   "cell_type": "code",
   "execution_count": null,
   "metadata": {},
   "outputs": [],
   "source": [
    "# Calculate the moving average with a window of 10 days\n",
    "mov_avg_window = 14\n",
    "df_2020['Moving_Average'] = df_2020[\"Close\"].rolling(window=mov_avg_window).mean()"
   ]
  },
  {
   "cell_type": "code",
   "execution_count": null,
   "metadata": {},
   "outputs": [],
   "source": [
    "plt.figure(figsize=(15,6))\n",
    "plt.plot(df_2020[\"Date\"], df_2020[\"Moving_Average\"], color=\"red\", label=\"Moving Average\")\n",
    "plt.plot(df_2020[\"Date\"], df_2020[\"Close\"], color=\"blue\", label=\"Original\", alpha=0.25)\n",
    "plt.plot(df_2020[\"Date\"], df_2020[\"Close\"] - decomposition.resid, color=\"green\", label=\"Original Minus Residuals\")\n",
    "plt.xticks(rotation=30, fontsize=8)\n",
    "plt.legend()\n",
    "plt.show()"
   ]
  },
  {
   "cell_type": "markdown",
   "metadata": {},
   "source": [
    "# <h1 style=\"font-size: 18px;\">Exponencial Moving Average - EMA</h1>"
   ]
  },
  {
   "cell_type": "code",
   "execution_count": 129,
   "metadata": {},
   "outputs": [],
   "source": [
    "# Definir o período da EMA\n",
    "periodo_ema = 5\n",
    "\n",
    "# Calcular a EMA\n",
    "df_2020[\"EMA\"] = df_2020[\"Close\"].ewm(span=periodo_ema, adjust=False).mean()"
   ]
  },
  {
   "cell_type": "code",
   "execution_count": null,
   "metadata": {},
   "outputs": [],
   "source": [
    "plt.figure(figsize=(15,6))\n",
    "sns.lineplot(df_2020, x=\"Date\", y=\"EMA\", label=\"EMA 5 days\")\n",
    "sns.lineplot(df_2020, x=\"Date\", y=\"Close\", label=\"Original Values\")\n",
    "plt.legend()\n",
    "plt.show()"
   ]
  },
  {
   "cell_type": "markdown",
   "metadata": {},
   "source": [
    "# <h1 style=\"font-size: 18px;\">Moving Average Convergence Divergence - MACD</h1>"
   ]
  },
  {
   "cell_type": "code",
   "execution_count": null,
   "metadata": {},
   "outputs": [],
   "source": [
    "# Calcular as Médias Móveis Exponenciais (EMA)\n",
    "ema_12 = df_2020[\"Close\"].ewm(span=12, adjust=False).mean()\n",
    "ema_26 = df_2020[\"Close\"].ewm(span=26, adjust=False).mean()\n",
    "\n",
    "# Calcular a linha MACD\n",
    "macd = ema_12 - ema_26\n",
    "\n",
    "# Calcular a linha de sinal\n",
    "signal_line = macd.ewm(span=9, adjust=False).mean()\n",
    "\n",
    "# Calcular o histograma MACD\n",
    "histogram = macd - signal_line\n",
    "\n",
    "# Plotar os resultados\n",
    "plt.figure(figsize=(14, 7))\n",
    "plt.plot(df_2020[\"Date\"], macd, label='MACD', color='blue')\n",
    "plt.plot(df_2020[\"Date\"], signal_line, label='Linha de Sinal', color='red')\n",
    "plt.bar(df_2020[\"Date\"], histogram, label='Histograma', color='gray', alpha=0.3)\n",
    "\n",
    "plt.title('MACD (Médias Móveis Convergentes e Divergentes)')\n",
    "plt.xlabel('Data')\n",
    "plt.ylabel('Valor')\n",
    "plt.legend(loc='upper left')\n",
    "plt.grid(True)\n",
    "plt.show()"
   ]
  },
  {
   "cell_type": "markdown",
   "metadata": {},
   "source": [
    "# <h1 style=\"font-size: 18px;\">Identify Graphic Patterns</h1>"
   ]
  },
  {
   "cell_type": "code",
   "execution_count": null,
   "metadata": {},
   "outputs": [],
   "source": [
    "import ta\n",
    "\n",
    "# Calcular as Médias Móveis Simples (SMA) para identificação de padrões\n",
    "df_2020['SMA_50'] = df_2020['Close'].rolling(window=50).mean()\n",
    "df_2020['SMA_200'] = df_2020['Close'].rolling(window=200).mean()\n",
    "\n",
    "# Calcular o MACD\n",
    "df_2020['MACD'] = ta.trend.macd(df_2020['Close'])\n",
    "df_2020['MACD_Signal'] = ta.trend.macd_signal(df_2020['Close'])\n",
    "df_2020['MACD_Hist'] = df_2020['MACD'] - df_2020['MACD_Signal']\n",
    "\n",
    "# Identificar padrões de triângulo simétrico (simplificado)\n",
    "df_2020['High_Peak'] = df_2020[\"High\"][df_2020[\"High\"] == df_2020[\"High\"].rolling(window=5, center=True).max()]\n",
    "df_2020['Low_Trough'] = df_2020['Low'][df_2020['Low'] == df_2020['Low'].rolling(window=5, center=True).min()]\n",
    "\n",
    "# Plotar os resultados\n",
    "plt.figure(figsize=(20, 10))\n",
    "plt.plot(df_2020[\"Date\"], df_2020['Close'], label='Closing Price')\n",
    "plt.plot(df_2020[\"Date\"], df_2020['SMA_50'], label='SMA 50', color='blue', linestyle='--')\n",
    "plt.plot(df_2020[\"Date\"], df_2020['SMA_200'], label='SMA 200', color='orange', linestyle='--')\n",
    "\n",
    "# Plotar os picos e vales identificados\n",
    "plt.scatter(df_2020[\"Date\"], df_2020['High_Peak'], label='Peaks', color='red', marker='^', alpha=1)\n",
    "plt.scatter(df_2020[\"Date\"], df_2020['Low_Trough'], label='Valleys', color='green', marker='v', alpha=1)\n",
    "\n",
    "plt.title('Identify Graphic Patterns')\n",
    "plt.xlabel('Date')\n",
    "plt.ylabel('Price')\n",
    "plt.legend(loc='upper left')\n",
    "plt.grid(True, alpha=0.2)\n",
    "plt.show()"
   ]
  },
  {
   "cell_type": "markdown",
   "metadata": {},
   "source": [
    "# <h1 style=\"font-size: 18px;\">ARIMA</h1>"
   ]
  },
  {
   "cell_type": "markdown",
   "metadata": {},
   "source": [
    "## <h1 style=\"font-size: 18px;\">Transformação em Estacionária</h1>"
   ]
  },
  {
   "cell_type": "code",
   "execution_count": null,
   "metadata": {},
   "outputs": [],
   "source": [
    "# Plot original data and moving average\n",
    "plt.figure(figsize=(25, 10))  # Correct usage of plt.figure()\n",
    "plt.plot(df_2020[\"Date\"], df_2020[\"Close\"], label='Original Data')\n",
    "plt.plot(df_2020[\"Date\"], df_2020['Moving_Average'], label=f'Moving Average ({mov_avg_window} days)')\n",
    "plt.legend()\n",
    "plt.title('Stock Prices with Moving Average')\n",
    "plt.show()"
   ]
  },
  {
   "cell_type": "code",
   "execution_count": null,
   "metadata": {},
   "outputs": [],
   "source": [
    "# 1. Verificar estacionariedade\n",
    "resultado_adf = adfuller(df_2020[\"Moving_Average\"].dropna())\n",
    "print(f'ADF Statistic: {resultado_adf[0]}')\n",
    "print(f'p-value: {resultado_adf[1]}') # Se o valor-p > 0.05, a série não é estacionária.\n",
    "print(f'Used Lag: {resultado_adf[2]}')\n",
    "print(f'Nobs: {resultado_adf[3]}')\n",
    "print(f'Critical Values: {resultado_adf[4]}')\n",
    "print(f'Icbest: {resultado_adf[5]}')"
   ]
  },
  {
   "cell_type": "markdown",
   "metadata": {},
   "source": [
    "### <h1 style=\"font-size: 18px;\">Differential</h1>"
   ]
  },
  {
   "cell_type": "code",
   "execution_count": 8,
   "metadata": {},
   "outputs": [],
   "source": [
    "df_2020[\"Differential\"] = df_2020[\"Close\"].diff()"
   ]
  },
  {
   "cell_type": "code",
   "execution_count": null,
   "metadata": {},
   "outputs": [],
   "source": [
    "plt.figure(figsize=(15,6))\n",
    "sns.lineplot(df_2020, x=\"Date\", y=\"Differential\")\n",
    "plt.title('Differential of Close Values')\n",
    "plt.show()"
   ]
  },
  {
   "cell_type": "code",
   "execution_count": null,
   "metadata": {},
   "outputs": [],
   "source": [
    "resultado_adf = adfuller(df_2020[\"Differential\"].dropna())\n",
    "print(f'ADF Statistic: {resultado_adf[0]}')\n",
    "print(f'p-value: {resultado_adf[1]}') # Se o valor-p > 0.05, a série não é estacionária.\n",
    "print(f'Used Lag: {resultado_adf[2]}')\n",
    "print(f'Nobs: {resultado_adf[3]}')\n",
    "print(f'Critical Values: {resultado_adf[4]}')\n",
    "print(f'Icbest: {resultado_adf[5]}')"
   ]
  },
  {
   "cell_type": "markdown",
   "metadata": {},
   "source": [
    "### <h1 style=\"font-size: 18px;\">Remove Tendence</h1>"
   ]
  },
  {
   "cell_type": "code",
   "execution_count": 11,
   "metadata": {},
   "outputs": [],
   "source": [
    "p1 = np.polyfit(df_2020.index, df_2020[\"Close\"], 1)\n",
    "y1_fit = np.polyval(p1, df_2020.index)\n",
    "\n",
    "p2 = np.polyfit(df_2020.index, df_2020[\"Close\"], 2)\n",
    "y2_fit = np.polyval(p2, df_2020.index)\n",
    "\n",
    "p3 = np.polyfit(df_2020.index, df_2020[\"Close\"], 3)\n",
    "y3_fit = np.polyval(p3, df_2020.index)"
   ]
  },
  {
   "cell_type": "code",
   "execution_count": null,
   "metadata": {},
   "outputs": [],
   "source": [
    "plt.figure(figsize=(25,10))\n",
    "plt.scatter(df_2020.index, df_2020[\"Close\"], label='Dados Originais')\n",
    "plt.plot(df_2020.index, y1_fit, label='Ajuste Linear (grau 1)')\n",
    "plt.plot(df_2020.index, y2_fit, label='Ajuste Quadrático (grau 2)')\n",
    "plt.plot(df_2020.index, y3_fit, label='Ajuste Cúbico (grau 3)')\n",
    "plt.legend()\n",
    "plt.show()"
   ]
  },
  {
   "cell_type": "code",
   "execution_count": null,
   "metadata": {},
   "outputs": [],
   "source": [
    "for i in [y1_fit, y2_fit, y3_fit]:\n",
    "    resultado_adf = adfuller(i)\n",
    "    print(f'ADF Statistic: {resultado_adf[0]}')\n",
    "    print(f'p-value: {resultado_adf[1]}') # Se o valor-p > 0.05, a série não é estacionária.\n",
    "    print(f'Used Lag: {resultado_adf[2]}')\n",
    "    print(f'Nobs: {resultado_adf[3]}')\n",
    "    print(f'Critical Values: {resultado_adf[4]}')\n",
    "    print(f'Icbest: {resultado_adf[5]}')\n",
    "    print()"
   ]
  },
  {
   "cell_type": "markdown",
   "metadata": {},
   "source": [
    "### <h1 style=\"font-size: 18px;\">Seasonal Differential - Best Result</h1>"
   ]
  },
  {
   "cell_type": "code",
   "execution_count": 13,
   "metadata": {},
   "outputs": [],
   "source": [
    "df_2020[\"Season_Diff\"] = df_2020[\"Close\"].diff(periods=2)"
   ]
  },
  {
   "cell_type": "code",
   "execution_count": null,
   "metadata": {},
   "outputs": [],
   "source": [
    "plt.figure(figsize=(15,6))\n",
    "sns.lineplot(df_2020, x=\"Date\", y=\"Season_Diff\")\n",
    "plt.title('Seasonal Differential of Close Values')\n",
    "plt.show()"
   ]
  },
  {
   "cell_type": "code",
   "execution_count": null,
   "metadata": {},
   "outputs": [],
   "source": [
    "resul_adf = adfuller(df_2020[\"Season_Diff\"].dropna())\n",
    "print(f'ADF Statistic: {resul_adf[0]}')\n",
    "print(f'p-value: {resul_adf[1]}') # Se o valor-p > 0.05, a série não é estacionária.\n",
    "print(f'Used Lag: {resul_adf[2]}')\n",
    "print(f'Nobs: {resul_adf[3]}')\n",
    "print(f'Critical Values: {resul_adf[4]}')\n",
    "print(f'Icbest: {resul_adf[5]}')"
   ]
  },
  {
   "cell_type": "markdown",
   "metadata": {},
   "source": [
    "### <h1 style=\"font-size: 18px;\">Logarithmic Transformation</h1>"
   ]
  },
  {
   "cell_type": "code",
   "execution_count": 17,
   "metadata": {},
   "outputs": [],
   "source": [
    "df_2020[\"Log\"] = np.log(df_2020[\"Close\"])"
   ]
  },
  {
   "cell_type": "code",
   "execution_count": null,
   "metadata": {},
   "outputs": [],
   "source": [
    "fig, (ax1, ax2) = plt.subplots(2, 1, figsize=(12,10))\n",
    "\n",
    "ax1.plot(df_2020[\"Date\"], df_2020[\"Close\"])\n",
    "ax1.set_title(\"Stock Price - Close\")\n",
    "\n",
    "ax2.plot(df_2020[\"Date\"], df_2020[\"Log\"])\n",
    "ax2.set_title(\"Logarithmic Transformation of Close Values\")\n",
    "\n",
    "plt.show()"
   ]
  },
  {
   "cell_type": "code",
   "execution_count": null,
   "metadata": {},
   "outputs": [],
   "source": [
    "resul_adf = adfuller(df_2020[\"Log\"].dropna())\n",
    "print(f'ADF Statistic: {resul_adf[0]}')\n",
    "print(f'p-value: {resul_adf[1]}') # Se o valor-p > 0.05, a série não é estacionária.\n",
    "print(f'Used Lag: {resul_adf[2]}')\n",
    "print(f'Nobs: {resul_adf[3]}')\n",
    "print(f'Critical Values: {resul_adf[4]}')\n",
    "print(f'Icbest: {resul_adf[5]}')"
   ]
  },
  {
   "cell_type": "markdown",
   "metadata": {},
   "source": [
    "## <h1 style=\"font-size: 18px;\">KPSS</h1>"
   ]
  },
  {
   "cell_type": "code",
   "execution_count": null,
   "metadata": {},
   "outputs": [],
   "source": [
    "# Realizando o teste KPSS\n",
    "with warnings.catch_warnings(record=True) as w:\n",
    "    result = kpss(df_2020[\"Differential\"].dropna(), regression='ct')  # 'c' para constante, 'ct' para tendência\n",
    "    if w:\n",
    "        print(f\"Aviso: {w[0].message}\")\n",
    "    print(f\"Estatística KPSS: {result[0]}\")\n",
    "    print(f\"p-valor: {result[1]}\")\n",
    "    print(f\"Valores críticos: {result[3]}\")\n",
    "\n",
    "    # Interpretação\n",
    "    if result[0] > result[3]['5%']:\n",
    "        print(\"Rejeita H0: A série NÃO é estacionária.\")\n",
    "    else:\n",
    "        print(\"Não rejeita H0: A série é estacionária.\")"
   ]
  },
  {
   "cell_type": "code",
   "execution_count": null,
   "metadata": {},
   "outputs": [],
   "source": [
    "# 2. Plotar ACF e PACF para identificar p e q\n",
    "\n",
    "fig, (axs) = plt.subplots(2, 2, figsize=(12,5))\n",
    "\n",
    "plot_acf(df_2020[\"Differential\"], lags=10, ax=axs[0,0])\n",
    "axs[0,0].set_title('ACF - Stationary')\n",
    "\n",
    "plot_pacf(df_2020[\"Differential\"], lags=10, ax=axs[0,1])\n",
    "axs[0,1].set_title('PACF - Stationary')\n",
    "\n",
    "plot_acf(df_2020[\"Close\"], lags=10, ax=axs[1,0])\n",
    "axs[1,0].set_title('ACF - Original')\n",
    "\n",
    "plot_pacf(df_2020[\"Close\"], lags=10, ax=axs[1,1])\n",
    "axs[1,1].set_title('PACF - Original')\n",
    "\n",
    "plt.tight_layout()\n",
    "plt.show()"
   ]
  },
  {
   "cell_type": "markdown",
   "metadata": {},
   "source": [
    "## <h1 style=\"font-size: 18px;\">Model</h1>"
   ]
  },
  {
   "cell_type": "code",
   "execution_count": 199,
   "metadata": {},
   "outputs": [],
   "source": [
    "# 3. Ajustar o modelo ARIMA\n",
    "modelo = ARIMA(df_2020[\"Close\"], order=(1, 1, 1))  # (p, d, q)\n",
    "resultado = modelo.fit()"
   ]
  },
  {
   "cell_type": "code",
   "execution_count": null,
   "metadata": {},
   "outputs": [],
   "source": [
    "print(resultado.summary())"
   ]
  },
  {
   "cell_type": "code",
   "execution_count": null,
   "metadata": {},
   "outputs": [],
   "source": [
    "residuals = resultado.resid\n",
    "plot_acf(residuals)\n",
    "plot_pacf(residuals)\n",
    "plt.show()"
   ]
  },
  {
   "cell_type": "code",
   "execution_count": null,
   "metadata": {},
   "outputs": [],
   "source": [
    "# 4. Fazer previsões\n",
    "previsoes = resultado.forecast(steps=12)\n",
    "print(f\"Previsões:\\n{previsoes}\")"
   ]
  },
  {
   "cell_type": "code",
   "execution_count": null,
   "metadata": {},
   "outputs": [],
   "source": [
    "s_integrated = previsoes.cumsum()  # Soma cumulativa das diferenças\n",
    "s_integrated = s_integrated.apply(lambda x: x+df_2020[\"Close\"].iloc[-1])\n",
    "\n",
    "print(\"\\nSérie Reconstruída (invertendo .diff()):\")\n",
    "print(s_integrated)"
   ]
  },
  {
   "cell_type": "code",
   "execution_count": null,
   "metadata": {},
   "outputs": [],
   "source": [
    "# 5. Plotar resultados\n",
    "plt.figure(figsize=(20,10))\n",
    "plt.plot(df_2020[\"Close\"], label='Dados Reais')\n",
    "plt.plot(previsoes, label='Previsão')\n",
    "plt.legend()\n",
    "plt.show()"
   ]
  },
  {
   "cell_type": "code",
   "execution_count": null,
   "metadata": {},
   "outputs": [],
   "source": [
    "df_lagged = pd.DataFrame({\n",
    "    't': df_2020[\"Close\"],\n",
    "    't-1': df_2020[\"Close\"].shift(1),\n",
    "    't-2': df_2020[\"Close\"].shift(2)\n",
    "}).dropna()\n",
    "\n",
    "# Aplicando PCA\n",
    "pca = PCA(n_components=2)\n",
    "pca_result = pca.fit_transform(df_lagged)\n",
    "\n",
    "print(\"Variância explicada por cada componente:\", pca.explained_variance_ratio_)\n",
    "print(\"Componentes principais:\\n\", pca.components_)"
   ]
  },
  {
   "cell_type": "markdown",
   "metadata": {},
   "source": [
    "# <h1 style=\"font-size: 18px;\">Build and Train Model - Open</h1>"
   ]
  },
  {
   "cell_type": "code",
   "execution_count": null,
   "metadata": {},
   "outputs": [],
   "source": [
    "# Import Data\n",
    "df = pd.read_csv(\"TSLA.csv\")\n",
    "\n",
    "# Transform Date column to Datetime\n",
    "df[\"Date\"] = pd.to_datetime(df[\"Date\"])\n",
    "\n",
    "# Set Date column as index\n",
    "df.set_index(\"Date\", inplace=True)\n",
    "\n",
    "# Selection of the feature\n",
    "data = df[[\"Open\", \"Volume\"]].values\n",
    "\n",
    "# Scale values to [0 ~ 1]\n",
    "scaler = MinMaxScaler()\n",
    "data_scaled = scaler.fit_transform(data)\n",
    "\n",
    "# Data preparation for LSTM\n",
    "def create_dataset(data, look_back=1):\n",
    "    \"\"\"Transforms the data into sets of input X and output y for the LSTM model.\n",
    "    The variable look_back defines how many previous days are used to predict\n",
    "    the next value.\n",
    "    The data is then reshaped into the format expected by the LSTM.\n",
    "\n",
    "    Args:\n",
    "        data (array): Values to insert into model\n",
    "        look_back (int, optional): Defines how many previous days are used to predict\n",
    "    the next value. Defaults to 1.\n",
    "\n",
    "    Returns:\n",
    "        array: Actual Value, Look back value\n",
    "    \"\"\"\n",
    "    X, y = [], []\n",
    "    for i in range(len(data) - look_back - 1):\n",
    "        a = data[i:(i + look_back)]\n",
    "        X.append(a)\n",
    "        y.append(data[i + look_back, 0])\n",
    "    return np.array(X), np.array(y)\n",
    "\n",
    "# Execute 'create_dataset' function\n",
    "look_back = 60\n",
    "X, y = create_dataset(data_scaled, look_back)\n",
    "X = np.reshape(X, (X.shape[0], X.shape[1], X.shape[2]))\n",
    "\n",
    "# Train and Test data split\n",
    "train_size = int(len(X) * 0.8)\n",
    "test_size = len(X) - train_size\n",
    "X_train, X_test = X[0:train_size], X[train_size:len(X)]\n",
    "y_train, y_test = y[0:train_size], y[train_size:len(y)]\n",
    "\n",
    "# Build LSTM Model and Add Layers\n",
    "model = Sequential()\n",
    "model.add(LSTM(units=50, return_sequences=True, input_shape=(look_back, 2)))\n",
    "model.add(LSTM(units=50))\n",
    "model.add(Dense(1))\n",
    "\n",
    "# Compile Model\n",
    "model.compile(optimizer='adam', loss='mean_squared_error')\n",
    "\n",
    "# Train Model\n",
    "model.fit(X_train, y_train, epochs=100, batch_size=32)\n",
    "\n",
    "# Predict Values\n",
    "predicted_stock_price = model.predict(X_test)\n",
    "\n",
    "# Invert Normalization\n",
    "predicted_stock_price = scaler.inverse_transform(\n",
    "    np.concatenate(\n",
    "        [predicted_stock_price,np.zeros(\n",
    "            (predicted_stock_price.shape[0], 1))], axis=1))[:, 0]"
   ]
  },
  {
   "cell_type": "code",
   "execution_count": null,
   "metadata": {},
   "outputs": [],
   "source": [
    "# Real Values\n",
    "real_stock_price = scaler.inverse_transform(\n",
    "    np.concatenate(\n",
    "        [y_test.reshape(-1, 1), np.zeros(\n",
    "            (y_test.shape[0], 1))], axis=1))[:, 0]\n",
    "\n",
    "# Result Plot\n",
    "plt.plot(\n",
    "    df.index[-len(y_test):],\n",
    "    real_stock_price,\n",
    "    color='black',\n",
    "    label='Valores Reais'\n",
    ")\n",
    "\n",
    "plt.plot(\n",
    "    df.index[-len(predicted_stock_price):],\n",
    "    predicted_stock_price,\n",
    "    color='blue',\n",
    "    label='Previsões'\n",
    ")\n",
    "\n",
    "plt.xlabel('Date')\n",
    "plt.ylabel('Share Price - Open')\n",
    "plt.legend()\n",
    "plt.show()"
   ]
  },
  {
   "cell_type": "code",
   "execution_count": null,
   "metadata": {},
   "outputs": [],
   "source": [
    "# Cálculo das métricas\n",
    "mae = mean_absolute_error(real_stock_price, predicted_stock_price)\n",
    "rmse = np.sqrt(mean_squared_error(real_stock_price, predicted_stock_price))\n",
    "r2 = r2_score(real_stock_price, predicted_stock_price)\n",
    "\n",
    "print(f\"MAE: {mae:.2f}\")\n",
    "print(f\"RMSE: {rmse:.2f}\")\n",
    "print(f\"R²: {r2:.2f}\")"
   ]
  },
  {
   "cell_type": "code",
   "execution_count": null,
   "metadata": {},
   "outputs": [],
   "source": [
    "# Previsão para os próximos meses\n",
    "def predict_future(data, model, look_back, steps):\n",
    "    predictions = []\n",
    "    current_step = data[-look_back:]\n",
    "    \n",
    "    for _ in range(steps):\n",
    "        prediction = model.predict(current_step.reshape(1, look_back, 2))\n",
    "        predictions.append(prediction[0, 0])\n",
    "        new_step = np.append(prediction, [current_step[-1, 1]])  # Mantém o volume constante para o novo passo\n",
    "        current_step = np.append(current_step[1:], [new_step], axis=0)\n",
    "    \n",
    "    return predictions\n",
    "\n",
    "future_steps = 12  # Número de meses a serem previstos\n",
    "future_predictions_scaled = predict_future(\n",
    "    data_scaled, model, look_back, future_steps)\n",
    "\n",
    "# Desscalar as previsões futuras\n",
    "future_predictions = scaler.inverse_transform(\n",
    "    np.concatenate(\n",
    "        [\n",
    "            np.array(future_predictions_scaled).reshape(-1, 1),\n",
    "            np.zeros((future_steps, 1))\n",
    "        ], axis=1))[:, 0]\n",
    "\n",
    "# Gerar datas para os próximos meses\n",
    "last_date = df.index[-1]\n",
    "future_dates = [\n",
    "    last_date + pd.DateOffset(months=i) for i in range(1, future_steps + 1)\n",
    "]\n",
    "\n",
    "# Plotar os resultados\n",
    "plt.plot(\n",
    "    df.index[-len(y_test):],\n",
    "    real_stock_price,\n",
    "    color='black',\n",
    "    label='Valores Reais'\n",
    ")\n",
    "\n",
    "plt.plot(\n",
    "    df.index[-len(predicted_stock_price):],\n",
    "    predicted_stock_price,\n",
    "    color='blue',\n",
    "    label='Previsões (Teste)'\n",
    ")\n",
    "\n",
    "plt.plot(\n",
    "    future_dates,\n",
    "    future_predictions,\n",
    "    color='red',\n",
    "    label='Previsões (Futuro)'\n",
    ")\n",
    "\n",
    "plt.xlabel('Data')\n",
    "plt.ylabel('Preço da Ação')\n",
    "plt.legend()\n",
    "plt.show()"
   ]
  }
 ],
 "metadata": {
  "kernelspec": {
   "display_name": "venv",
   "language": "python",
   "name": "python3"
  },
  "language_info": {
   "codemirror_mode": {
    "name": "ipython",
    "version": 3
   },
   "file_extension": ".py",
   "mimetype": "text/x-python",
   "name": "python",
   "nbconvert_exporter": "python",
   "pygments_lexer": "ipython3",
   "version": "3.12.8"
  }
 },
 "nbformat": 4,
 "nbformat_minor": 2
}
