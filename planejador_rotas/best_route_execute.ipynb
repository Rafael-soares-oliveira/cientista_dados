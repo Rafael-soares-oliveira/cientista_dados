{
 "cells": [
  {
   "cell_type": "code",
   "execution_count": 1,
   "metadata": {},
   "outputs": [],
   "source": [
    "from best_route import BestRouteTSP"
   ]
  },
  {
   "cell_type": "code",
   "execution_count": 2,
   "metadata": {},
   "outputs": [],
   "source": [
    "# Starting Point\n",
    "starting_point = \"Avenida Paulista, São Paulo, SP\"\n",
    "\n",
    "# Delivery Addresses.\n",
    "delivery_addresses = [\n",
    "    \"Rua Francisco de Magalhães, Jardim Nove de Julho, São Paulo, SP\",\n",
    "    \"Rua Dom Bernardo Nogueira, Vila Gumercindo, São Paulo, SP\",\n",
    "    \"Rua Indiana, Brooklin Paulista, São Paulo, SP\",\n",
    "    \"Rua Antônio Moreira, Pari, São Paulo, SP\",\n",
    "    \"Rua Silva, Núcleo Lageado, São Paulo, SP\",\n",
    "    \"Rua Caetés, Perdizes, São Paulo, SP\",\n",
    "    \"Rua Juca Floriano, Casa Verde Média, São Paulo, SP\",\n",
    "    \"Rua José Ataliba Ortiz, Vila Mangalot, São Paulo, SP\"\n",
    "]"
   ]
  },
  {
   "cell_type": "code",
   "execution_count": 3,
   "metadata": {},
   "outputs": [],
   "source": [
    "# Configure API key for Google Maps, extract from a file\n",
    "with open('API_KEY.txt', 'r') as file:\n",
    "    API_KEY = file.read().strip()\n",
    "\n",
    "API_KEY = API_KEY[API_KEY.find(\":\")+1:].strip()"
   ]
  },
  {
   "cell_type": "code",
   "execution_count": 4,
   "metadata": {},
   "outputs": [],
   "source": [
    "df = BestRouteTSP(API_KEY, starting_point, delivery_addresses).to_dataframe()"
   ]
  },
  {
   "cell_type": "code",
   "execution_count": 5,
   "metadata": {},
   "outputs": [
    {
     "data": {
      "text/html": [
       "<div>\n",
       "<style scoped>\n",
       "    .dataframe tbody tr th:only-of-type {\n",
       "        vertical-align: middle;\n",
       "    }\n",
       "\n",
       "    .dataframe tbody tr th {\n",
       "        vertical-align: top;\n",
       "    }\n",
       "\n",
       "    .dataframe thead th {\n",
       "        text-align: right;\n",
       "    }\n",
       "</style>\n",
       "<table border=\"1\" class=\"dataframe\">\n",
       "  <thead>\n",
       "    <tr style=\"text-align: right;\">\n",
       "      <th></th>\n",
       "      <th>Delivery</th>\n",
       "      <th>Address</th>\n",
       "      <th>Distance (m)</th>\n",
       "      <th>Duration (min)</th>\n",
       "    </tr>\n",
       "  </thead>\n",
       "  <tbody>\n",
       "    <tr>\n",
       "      <th>0</th>\n",
       "      <td>1</td>\n",
       "      <td>Rua Antônio Moreira, Pari, São Paulo, SP</td>\n",
       "      <td>8002</td>\n",
       "      <td>16</td>\n",
       "    </tr>\n",
       "    <tr>\n",
       "      <th>1</th>\n",
       "      <td>2</td>\n",
       "      <td>Rua Juca Floriano, Casa Verde Média, São Paulo...</td>\n",
       "      <td>7755</td>\n",
       "      <td>14</td>\n",
       "    </tr>\n",
       "    <tr>\n",
       "      <th>2</th>\n",
       "      <td>3</td>\n",
       "      <td>Rua José Ataliba Ortiz, Vila Mangalot, São Pau...</td>\n",
       "      <td>10991</td>\n",
       "      <td>19</td>\n",
       "    </tr>\n",
       "    <tr>\n",
       "      <th>3</th>\n",
       "      <td>4</td>\n",
       "      <td>Rua Caetés, Perdizes, São Paulo, SP</td>\n",
       "      <td>13313</td>\n",
       "      <td>23</td>\n",
       "    </tr>\n",
       "    <tr>\n",
       "      <th>4</th>\n",
       "      <td>5</td>\n",
       "      <td>Rua Indiana, Brooklin Paulista, São Paulo, SP</td>\n",
       "      <td>12080</td>\n",
       "      <td>25</td>\n",
       "    </tr>\n",
       "    <tr>\n",
       "      <th>5</th>\n",
       "      <td>6</td>\n",
       "      <td>Rua Dom Bernardo Nogueira, Vila Gumercindo, Sã...</td>\n",
       "      <td>10467</td>\n",
       "      <td>21</td>\n",
       "    </tr>\n",
       "    <tr>\n",
       "      <th>6</th>\n",
       "      <td>7</td>\n",
       "      <td>Rua Francisco de Magalhães, Jardim Nove de Jul...</td>\n",
       "      <td>18334</td>\n",
       "      <td>46</td>\n",
       "    </tr>\n",
       "    <tr>\n",
       "      <th>7</th>\n",
       "      <td>8</td>\n",
       "      <td>Rua Silva, Núcleo Lageado, São Paulo, SP</td>\n",
       "      <td>16125</td>\n",
       "      <td>35</td>\n",
       "    </tr>\n",
       "    <tr>\n",
       "      <th>8</th>\n",
       "      <td>9</td>\n",
       "      <td>Avenida Paulista, São Paulo, SP</td>\n",
       "      <td>39859</td>\n",
       "      <td>59</td>\n",
       "    </tr>\n",
       "  </tbody>\n",
       "</table>\n",
       "</div>"
      ],
      "text/plain": [
       "   Delivery                                            Address  Distance (m)  \\\n",
       "0         1           Rua Antônio Moreira, Pari, São Paulo, SP          8002   \n",
       "1         2  Rua Juca Floriano, Casa Verde Média, São Paulo...          7755   \n",
       "2         3  Rua José Ataliba Ortiz, Vila Mangalot, São Pau...         10991   \n",
       "3         4                Rua Caetés, Perdizes, São Paulo, SP         13313   \n",
       "4         5      Rua Indiana, Brooklin Paulista, São Paulo, SP         12080   \n",
       "5         6  Rua Dom Bernardo Nogueira, Vila Gumercindo, Sã...         10467   \n",
       "6         7  Rua Francisco de Magalhães, Jardim Nove de Jul...         18334   \n",
       "7         8           Rua Silva, Núcleo Lageado, São Paulo, SP         16125   \n",
       "8         9                    Avenida Paulista, São Paulo, SP         39859   \n",
       "\n",
       "   Duration (min)  \n",
       "0              16  \n",
       "1              14  \n",
       "2              19  \n",
       "3              23  \n",
       "4              25  \n",
       "5              21  \n",
       "6              46  \n",
       "7              35  \n",
       "8              59  "
      ]
     },
     "execution_count": 5,
     "metadata": {},
     "output_type": "execute_result"
    }
   ],
   "source": [
    "df"
   ]
  }
 ],
 "metadata": {
  "kernelspec": {
   "display_name": "venv",
   "language": "python",
   "name": "python3"
  },
  "language_info": {
   "codemirror_mode": {
    "name": "ipython",
    "version": 3
   },
   "file_extension": ".py",
   "mimetype": "text/x-python",
   "name": "python",
   "nbconvert_exporter": "python",
   "pygments_lexer": "ipython3",
   "version": "3.12.8"
  }
 },
 "nbformat": 4,
 "nbformat_minor": 2
}
