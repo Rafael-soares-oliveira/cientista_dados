{
 "cells": [
  {
   "cell_type": "code",
   "execution_count": 1,
   "metadata": {},
   "outputs": [],
   "source": [
    "import pandas as pd\n",
    "from sklearn.model_selection import train_test_split\n",
    "from sklearn.metrics import accuracy_score\n",
    "from sklearn.ensemble import ExtraTreesClassifier\n",
    "from sklearn.preprocessing import LabelEncoder\n",
    "from yellowbrick.classifier import ConfusionMatrix\n",
    "from sklearn.svm import SVC, LinearSVC\n",
    "from datetime import datetime as dt\n",
    "import matplotlib.pyplot as plt\n",
    "import numpy as np\n",
    "import seaborn as sns"
   ]
  },
  {
   "cell_type": "code",
   "execution_count": 10,
   "metadata": {},
   "outputs": [],
   "source": [
    "df = pd.read_csv(\"dataset/student_monnitoring_data.csv\")"
   ]
  },
  {
   "cell_type": "code",
   "execution_count": 3,
   "metadata": {},
   "outputs": [],
   "source": [
    "df[\"Date\"] = pd.to_datetime(df[\"Date\"], format=\"%Y-%m-%d\")\n",
    "df[\"Day\"] = df[\"Date\"].dt.strftime(\"%d\")"
   ]
  },
  {
   "cell_type": "markdown",
   "metadata": {},
   "source": [
    "#\n",
    "1. Estatísticas descritivas"
   ]
  },
  {
   "cell_type": "code",
   "execution_count": 3,
   "metadata": {},
   "outputs": [],
   "source": [
    "df_desc = df.describe()\n",
    "df_desc.loc[\"IQR\"] = df_desc.loc[\"75%\"] - df_desc.loc[\"25%\"]"
   ]
  },
  {
   "cell_type": "markdown",
   "metadata": {},
   "source": [
    "#\n",
    "2. Outliers"
   ]
  },
  {
   "cell_type": "code",
   "execution_count": null,
   "metadata": {},
   "outputs": [],
   "source": [
    "for col in df.drop(columns=[\"Student ID\", \"Date\", \"Class Time\"]):\n",
    "  plt.figure(figsize=(10,4))\n",
    "  sns.histplot(\n",
    "    data=df, x=col, hue=\"Risk Level\"\n",
    "    ).set_title(f\"Distribuição da Variável: {col}\")\n",
    "  plt.show()"
   ]
  },
  {
   "cell_type": "markdown",
   "metadata": {},
   "source": [
    "#\n",
    "3. Análise Risk Level"
   ]
  },
  {
   "cell_type": "code",
   "execution_count": null,
   "metadata": {},
   "outputs": [],
   "source": [
    "df[\"Risk Level\"].value_counts(normalize=True).sort_index()"
   ]
  },
  {
   "cell_type": "code",
   "execution_count": 12,
   "metadata": {},
   "outputs": [],
   "source": [
    "df_encoded = df.copy()"
   ]
  },
  {
   "cell_type": "code",
   "execution_count": 27,
   "metadata": {},
   "outputs": [],
   "source": [
    "labelencoder_df1 = LabelEncoder()\n",
    "df_encoded.iloc[:, 1] = labelencoder_df1.fit_transform(df_encoded.iloc[:, 1]) + 1\n",
    "\n",
    "labelencoder_df2 = LabelEncoder()\n",
    "df_encoded.iloc[:, 2] = labelencoder_df2.fit_transform(df_encoded.iloc[:, 2])\n",
    "\n",
    "labelencoder_df3 = LabelEncoder()\n",
    "df_encoded.iloc[:, 3] = labelencoder_df3.fit_transform(df_encoded.iloc[:, 3])\n",
    "\n",
    "labelencoder_df8 = LabelEncoder()\n",
    "df_encoded.iloc[:, 8] = labelencoder_df8.fit_transform(df_encoded.iloc[:, 8])"
   ]
  },
  {
   "cell_type": "code",
   "execution_count": null,
   "metadata": {},
   "outputs": [],
   "source": [
    "plt.Figure(figsize=(12, 6))\n",
    "sns.heatmap(df_encoded.corr(), annot=True)\n",
    "plt.show()"
   ]
  },
  {
   "cell_type": "code",
   "execution_count": null,
   "metadata": {},
   "outputs": [],
   "source": [
    "df_encoded.corr()[\"Risk Level\"].sort_values()"
   ]
  },
  {
   "cell_type": "markdown",
   "metadata": {},
   "source": [
    "#\n",
    "4. calcule e/ou visualize (em um gráfico de barras, ou como preferir) o intervalo de confiança de 90% para a média de cada uma das variáveis físico-químicas, agrupadas pelos níveis categóricos da variável resposta quality. Que conclusões são possíveis tirar destes gráficos?"
   ]
  },
  {
   "cell_type": "code",
   "execution_count": null,
   "metadata": {},
   "outputs": [],
   "source": [
    "for col in df_encoded.drop(columns=[\"Student ID\", \"Risk Level\"]):\n",
    "  sns.barplot(\n",
    "    data=df_encoded, x=\"Risk Level\", y=col, errorbar=(\"ci\", 90),\n",
    "    hue=\"Risk Level\")\n",
    "  plt.show()"
   ]
  },
  {
   "cell_type": "code",
   "execution_count": null,
   "metadata": {},
   "outputs": [],
   "source": [
    "for col in df.drop(columns=[\"Student ID\"]):\n",
    "  plt.figure(figsize=(10,4))\n",
    "  sns.histplot(\n",
    "    data=df_encoded, x=col, hue=df[\"Risk Level\"]\n",
    "    ).set_title(f\"Distribuição da Variável: {col}\")\n",
    "  plt.show()"
   ]
  },
  {
   "cell_type": "markdown",
   "metadata": {},
   "source": [
    "#\n",
    "5."
   ]
  },
  {
   "cell_type": "code",
   "execution_count": 33,
   "metadata": {},
   "outputs": [],
   "source": [
    "previsores = df.drop(columns=[\"Date\", \"Risk Level\"]).values\n",
    "classe = df[\"Risk Level\"].values"
   ]
  },
  {
   "cell_type": "code",
   "execution_count": 43,
   "metadata": {},
   "outputs": [],
   "source": [
    "labelencoder1 = LabelEncoder()\n",
    "previsores[:, 1] = labelencoder1.fit_transform(previsores[:, 1])\n",
    "\n",
    "labelencoder2 = LabelEncoder()\n",
    "previsores[:, 2] = labelencoder2.fit_transform(previsores[:, 2])\n",
    "\n",
    "labelencoder3 = LabelEncoder()\n",
    "previsores[:, 7] = labelencoder3.fit_transform(previsores[:, 7])"
   ]
  },
  {
   "cell_type": "code",
   "execution_count": 5,
   "metadata": {},
   "outputs": [],
   "source": [
    "x_treinamento, x_teste, y_treinamento, y_test = train_test_split(\n",
    "  previsores,\n",
    "  classe,\n",
    "  test_size=0.3,\n",
    "  random_state=0\n",
    ")"
   ]
  },
  {
   "cell_type": "code",
   "execution_count": null,
   "metadata": {},
   "outputs": [],
   "source": [
    "forest = ExtraTreesClassifier()\n",
    "forest.fit(x_treinamento, y_treinamento)\n",
    "importancias = forest.feature_importances_\n",
    "importancias"
   ]
  },
  {
   "cell_type": "code",
   "execution_count": 7,
   "metadata": {},
   "outputs": [],
   "source": [
    "x_treinamento2 = x_treinamento[:, [2,3,5,6]]\n",
    "x_teste2 = x_teste[:, [2,3,5,6]]"
   ]
  },
  {
   "cell_type": "code",
   "execution_count": null,
   "metadata": {},
   "outputs": [],
   "source": [
    "svm = SVC()\n",
    "svm.fit(x_treinamento2, y_treinamento)\n",
    "previsoes = svm.predict(x_teste2)\n",
    "taxa_acerto = accuracy_score(y_test, previsoes)\n",
    "taxa_acerto"
   ]
  },
  {
   "cell_type": "code",
   "execution_count": null,
   "metadata": {},
   "outputs": [],
   "source": [
    "v = ConfusionMatrix(SVC())\n",
    "v.fit(x_treinamento2, y_treinamento)\n",
    "v.score(x_teste2, y_test)\n",
    "v.poof()"
   ]
  },
  {
   "cell_type": "code",
   "execution_count": 10,
   "metadata": {},
   "outputs": [],
   "source": [
    "x = pd.DataFrame(zip(list(y_test), list(previsoes)), columns=[\"Teste\", \"Previsão\"])"
   ]
  },
  {
   "cell_type": "code",
   "execution_count": null,
   "metadata": {},
   "outputs": [],
   "source": [
    "x[x[\"Previsão\"]!= x[\"Teste\"]]"
   ]
  },
  {
   "cell_type": "code",
   "execution_count": 12,
   "metadata": {},
   "outputs": [],
   "source": [
    "svm2 = LinearSVC()\n",
    "svm2.fit(x_treinamento2, y_treinamento)\n",
    "previsoes2 = svm.predict(x_teste2)"
   ]
  },
  {
   "cell_type": "code",
   "execution_count": null,
   "metadata": {},
   "outputs": [],
   "source": [
    "taxa_acerto2 = accuracy_score(y_test, previsoes2)\n",
    "taxa_acerto2"
   ]
  },
  {
   "cell_type": "code",
   "execution_count": null,
   "metadata": {},
   "outputs": [],
   "source": [
    "v2 = ConfusionMatrix(LinearSVC())\n",
    "v2.fit(x_treinamento2, y_treinamento)\n",
    "v2.score(x_teste2, y_test)\n",
    "v2.poof()"
   ]
  }
 ],
 "metadata": {
  "kernelspec": {
   "display_name": "venv",
   "language": "python",
   "name": "python3"
  },
  "language_info": {
   "codemirror_mode": {
    "name": "ipython",
    "version": 3
   },
   "file_extension": ".py",
   "mimetype": "text/x-python",
   "name": "python",
   "nbconvert_exporter": "python",
   "pygments_lexer": "ipython3",
   "version": "3.12.8"
  }
 },
 "nbformat": 4,
 "nbformat_minor": 2
}
