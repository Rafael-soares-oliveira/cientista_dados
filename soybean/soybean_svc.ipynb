{
 "cells": [
  {
   "cell_type": "code",
   "execution_count": 1,
   "metadata": {},
   "outputs": [],
   "source": [
    "import pandas as pd\n",
    "import matplotlib.pyplot as plt\n",
    "df = pd.read_csv(\"soybean.csv\")"
   ]
  },
  {
   "cell_type": "markdown",
   "metadata": {},
   "source": [
    "#\n",
    "SVC"
   ]
  },
  {
   "cell_type": "code",
   "execution_count": 2,
   "metadata": {},
   "outputs": [],
   "source": [
    "from sklearn.model_selection import train_test_split, GridSearchCV\n",
    "from sklearn.preprocessing import LabelEncoder\n",
    "import numpy as np\n",
    "import seaborn as sns\n",
    "import matplotlib.pyplot as plt\n",
    "from sklearn.svm import SVC\n",
    "from sklearn.metrics import accuracy_score\n",
    "from yellowbrick.classifier import ConfusionMatrix"
   ]
  },
  {
   "cell_type": "code",
   "execution_count": 3,
   "metadata": {},
   "outputs": [],
   "source": [
    "# Separar a variável alvo\n",
    "df_data = df.drop(columns=\"class\")\n",
    "df_target = df[\"class\"]"
   ]
  },
  {
   "cell_type": "code",
   "execution_count": 4,
   "metadata": {},
   "outputs": [],
   "source": [
    "# Realizar o Label Encoder das variáveis\n",
    "for i in range(len(df_data.columns)):\n",
    "  df_data.iloc[:, i] = LabelEncoder().fit_transform(df_data.iloc[:, i])"
   ]
  },
  {
   "cell_type": "code",
   "execution_count": 5,
   "metadata": {},
   "outputs": [],
   "source": [
    "# Separar as variáveis de treino e teste (70/30)\n",
    "x_treinamento, x_teste, y_treinamento, y_teste = train_test_split(\n",
    "  df_data,\n",
    "  df_target,\n",
    "  test_size=0.3,\n",
    "  random_state=42\n",
    ")"
   ]
  },
  {
   "cell_type": "code",
   "execution_count": 6,
   "metadata": {},
   "outputs": [],
   "source": [
    "# Definir o modelo SVC\n",
    "svc = SVC(random_state=42)"
   ]
  },
  {
   "cell_type": "code",
   "execution_count": 7,
   "metadata": {},
   "outputs": [],
   "source": [
    "# Definir a grade de parâmetros a serem testados\n",
    "param_grid = {\n",
    "  'C': [0.1,1,10,100],\n",
    "  'gamma':[1,0.1,0.01,0.001],\n",
    "  'kernel':['rbf']\n",
    "}"
   ]
  },
  {
   "cell_type": "code",
   "execution_count": 8,
   "metadata": {},
   "outputs": [],
   "source": [
    "# Configurar o GridSearchCV\n",
    "grid_search = GridSearchCV(\n",
    "  svc,\n",
    "  param_grid,\n",
    "  refit=True,\n",
    "  verbose=0,\n",
    "  cv=5\n",
    ")"
   ]
  },
  {
   "cell_type": "code",
   "execution_count": null,
   "metadata": {},
   "outputs": [],
   "source": [
    "# Realizar a busca pelos melhores hiperparâmetros\n",
    "grid_search.fit(df_data, df_target)"
   ]
  },
  {
   "cell_type": "code",
   "execution_count": null,
   "metadata": {},
   "outputs": [],
   "source": [
    "grid_search.best_params_"
   ]
  },
  {
   "cell_type": "code",
   "execution_count": 11,
   "metadata": {},
   "outputs": [],
   "source": [
    "# Criar o modelo de Support Vector Machine para Classificação\n",
    "svm = SVC(\n",
    "  C=10,\n",
    "  gamma=0.01,\n",
    "  kernel='rbf',\n",
    "  random_state=42\n",
    ")\n",
    "svm.fit(x_treinamento, y_treinamento)\n",
    "\n",
    "# Realizar a previsão\n",
    "previsoes = svm.predict(x_teste)\n",
    "\n",
    "# Calcular a taxa de acerto\n",
    "taxa_acerto = accuracy_score(y_teste, previsoes)"
   ]
  },
  {
   "cell_type": "code",
   "execution_count": null,
   "metadata": {},
   "outputs": [],
   "source": [
    "taxa_acerto"
   ]
  },
  {
   "cell_type": "code",
   "execution_count": null,
   "metadata": {},
   "outputs": [],
   "source": [
    "# Criar Matriz Confusão\n",
    "matrix = ConfusionMatrix(SVC(\n",
    "  C=10,\n",
    "  gamma=0.01,\n",
    "  kernel='rbf',\n",
    "  random_state=42\n",
    "))\n",
    "matrix.fit(x_treinamento, y_treinamento)\n",
    "matrix.score(x_teste, y_teste)\n",
    "matrix.poof()"
   ]
  },
  {
   "cell_type": "markdown",
   "metadata": {},
   "source": [
    "#\n",
    "Random Forest"
   ]
  },
  {
   "cell_type": "code",
   "execution_count": 9,
   "metadata": {},
   "outputs": [],
   "source": [
    "from sklearn.model_selection import train_test_split, GridSearchCV\n",
    "from sklearn.ensemble import RandomForestClassifier\n",
    "from sklearn.metrics import accuracy_score\n",
    "from yellowbrick.classifier import ConfusionMatrix\n",
    "import matplotlib.pyplot as plt"
   ]
  },
  {
   "cell_type": "code",
   "execution_count": null,
   "metadata": {},
   "outputs": [],
   "source": [
    "df_target = df[\"class\"]\n",
    "df_data = df.drop(columns=\"class\", axis=1)"
   ]
  },
  {
   "cell_type": "code",
   "execution_count": 4,
   "metadata": {},
   "outputs": [],
   "source": [
    "# Realizar one-hot encoding para todas as colunas categóricas\n",
    "df_encoded = pd.get_dummies(df_data)"
   ]
  },
  {
   "cell_type": "code",
   "execution_count": 5,
   "metadata": {},
   "outputs": [],
   "source": [
    "# Dividir os dados em treino e teste\n",
    "x_train, x_test, y_train, y_test = train_test_split(\n",
    "  df_encoded,\n",
    "  df_target,\n",
    "  test_size=0.3,\n",
    "  random_state=42\n",
    ")"
   ]
  },
  {
   "cell_type": "code",
   "execution_count": 6,
   "metadata": {},
   "outputs": [],
   "source": [
    "# Definir o modelo\n",
    "rf = RandomForestClassifier(\n",
    "  random_state=42\n",
    ")"
   ]
  },
  {
   "cell_type": "code",
   "execution_count": 7,
   "metadata": {},
   "outputs": [],
   "source": [
    "# Definir a grade de parâmetros a serem testados\n",
    "param_grid = {\n",
    "  'n_estimators':[100,200],\n",
    "  'max_depth':[None, 10,20,30],\n",
    "  'min_samples_split':[2,5,10],\n",
    "  'min_samples_leaf':[1,2,4]\n",
    "}"
   ]
  },
  {
   "cell_type": "code",
   "execution_count": null,
   "metadata": {},
   "outputs": [],
   "source": [
    "# Configurar o GridSearchCV\n",
    "grid_search = GridSearchCV(rf, param_grid, refit=True, verbose=0, cv=5)"
   ]
  },
  {
   "cell_type": "code",
   "execution_count": null,
   "metadata": {},
   "outputs": [],
   "source": [
    "# Realizar a busca de hiperparâmetros\n",
    "grid_search.fit(df_encoded, df_target)"
   ]
  },
  {
   "cell_type": "code",
   "execution_count": null,
   "metadata": {},
   "outputs": [],
   "source": [
    "grid_search.best_params_"
   ]
  },
  {
   "cell_type": "code",
   "execution_count": null,
   "metadata": {},
   "outputs": [],
   "source": [
    "# Treinar um modelo de Random Forest\n",
    "model = RandomForestClassifier(\n",
    "  n_estimators=200,\n",
    "  max_depth=10,\n",
    "  min_samples_split=5,\n",
    "  min_samples_leaf=1,\n",
    "  random_state=42\n",
    ")\n",
    "model.fit(x_train, y_train)"
   ]
  },
  {
   "cell_type": "code",
   "execution_count": null,
   "metadata": {},
   "outputs": [],
   "source": [
    "# Fazer previsões e avaliar o modelo\n",
    "previsoes = model.predict(x_test)\n",
    "taxa_acerto = accuracy_score(y_test, previsoes)\n",
    "taxa_acerto"
   ]
  },
  {
   "cell_type": "code",
   "execution_count": null,
   "metadata": {},
   "outputs": [],
   "source": [
    "# Criar Matriz Confusão\n",
    "plt.figure(figsize=(15,10))\n",
    "matrix = ConfusionMatrix(RandomForestClassifier())\n",
    "matrix.fit(x_train, y_train)\n",
    "matrix.score(x_test, y_test)\n",
    "matrix.poof()\n",
    "plt.show()"
   ]
  },
  {
   "cell_type": "markdown",
   "metadata": {},
   "source": [
    "#\n",
    "Gradient Boosting Machine (GBM)"
   ]
  },
  {
   "cell_type": "code",
   "execution_count": 23,
   "metadata": {},
   "outputs": [],
   "source": [
    "from sklearn.model_selection import train_test_split\n",
    "from sklearn.ensemble import GradientBoostingClassifier\n",
    "from sklearn.metrics import accuracy_score\n",
    "from yellowbrick.classifier import ConfusionMatrix\n",
    "import numpy as np\n",
    "import optuna"
   ]
  },
  {
   "cell_type": "code",
   "execution_count": 24,
   "metadata": {},
   "outputs": [],
   "source": [
    "df_target = df[\"class\"]\n",
    "df_data = df.drop(columns=\"class\")\n",
    "df_encoded = pd.get_dummies(df_data)"
   ]
  },
  {
   "cell_type": "code",
   "execution_count": 25,
   "metadata": {},
   "outputs": [],
   "source": [
    "x_train, x_test, y_train, y_test = train_test_split(\n",
    "  df_encoded,\n",
    "  df_target,\n",
    "  test_size=0.3,\n",
    "  random_state=42\n",
    ")"
   ]
  },
  {
   "cell_type": "code",
   "execution_count": 6,
   "metadata": {},
   "outputs": [],
   "source": [
    "def objective(trial):\n",
    "  n_estimators = trial.suggest_int('n_estimators', 100, 200)\n",
    "  max_depth = trial.suggest_int('max_depth', 2, 10)\n",
    "  min_samples_split = trial.suggest_int('min_samples_split', 2, 10)\n",
    "  min_samples_leaf = trial.suggest_int('min_samples_leaf', 1, 4)\n",
    "  \n",
    "  model = GradientBoostingClassifier(\n",
    "    n_estimators=n_estimators,\n",
    "    max_depth=max_depth,\n",
    "    min_samples_split=min_samples_split,\n",
    "    min_samples_leaf=min_samples_leaf,\n",
    "    random_state=42\n",
    "  )\n",
    "  \n",
    "  model.fit(x_train, y_train)\n",
    "  \n",
    "  return taxa_acerto"
   ]
  },
  {
   "cell_type": "code",
   "execution_count": null,
   "metadata": {},
   "outputs": [],
   "source": [
    "# Controlar a saída do log\n",
    "optuna.logging.set_verbosity(optuna.logging.WARNING)\n",
    "\n",
    "# Criar um estudo e otimizar\n",
    "study = optuna.create_study(direction='maximize')\n",
    "study.optimize(objective, n_trials=100)"
   ]
  },
  {
   "cell_type": "markdown",
   "metadata": {},
   "source": [
    "{'n_estimators': 148,\n",
    " 'max_depth': 10,\n",
    " 'min_samples_split': 8,\n",
    " 'min_samples_leaf': 1}"
   ]
  },
  {
   "cell_type": "code",
   "execution_count": null,
   "metadata": {},
   "outputs": [],
   "source": [
    "study.best_params"
   ]
  },
  {
   "cell_type": "code",
   "execution_count": 38,
   "metadata": {},
   "outputs": [],
   "source": [
    "# Inicializar o modelo\n",
    "gbm = GradientBoostingClassifier(\n",
    "  n_estimators=148,\n",
    "  max_depth=10,\n",
    "  min_samples_split=8,\n",
    "  min_samples_leaf=1,\n",
    "  random_state=42\n",
    "  )"
   ]
  },
  {
   "cell_type": "code",
   "execution_count": null,
   "metadata": {},
   "outputs": [],
   "source": [
    "gbm.fit(x_train, y_train)"
   ]
  },
  {
   "cell_type": "code",
   "execution_count": null,
   "metadata": {},
   "outputs": [],
   "source": [
    "previsoes = gbm.predict(x_test)\n",
    "taxa_acerto = accuracy_score(y_test, previsoes)\n",
    "taxa_acerto"
   ]
  },
  {
   "cell_type": "code",
   "execution_count": null,
   "metadata": {},
   "outputs": [],
   "source": [
    "# Criar Matriz Confusão\n",
    "plt.figure(figsize=(15,10))\n",
    "matrix = ConfusionMatrix(GradientBoostingClassifier())\n",
    "matrix.fit(x_train, y_train)\n",
    "matrix.score(x_test, y_test)\n",
    "matrix.poof()\n",
    "plt.show()"
   ]
  },
  {
   "cell_type": "markdown",
   "metadata": {},
   "source": [
    "#\n",
    "KNeighborsClassifier"
   ]
  },
  {
   "cell_type": "code",
   "execution_count": 1,
   "metadata": {},
   "outputs": [],
   "source": [
    "from sklearn.model_selection import train_test_split, GridSearchCV\n",
    "from sklearn.neighbors import KNeighborsClassifier\n",
    "from sklearn.metrics import accuracy_score\n",
    "from yellowbrick.classifier import ConfusionMatrix"
   ]
  },
  {
   "cell_type": "code",
   "execution_count": 4,
   "metadata": {},
   "outputs": [],
   "source": [
    "df_target = df[\"class\"]\n",
    "df_data = df.drop(columns=\"class\", axis=1)\n",
    "df_encoded = pd.get_dummies(df_data)"
   ]
  },
  {
   "cell_type": "code",
   "execution_count": null,
   "metadata": {},
   "outputs": [],
   "source": [
    "x_train, x_test, y_train, y_test = train_test_split(\n",
    "  df_encoded,\n",
    "  df_target,\n",
    "  test_size=0.3,\n",
    "  random_state=42\n",
    ")"
   ]
  },
  {
   "cell_type": "code",
   "execution_count": 6,
   "metadata": {},
   "outputs": [],
   "source": [
    "knn = KNeighborsClassifier()"
   ]
  },
  {
   "cell_type": "code",
   "execution_count": 11,
   "metadata": {},
   "outputs": [],
   "source": [
    "param_grid = {\n",
    "  'n_neighbors': [3, 5, 7, 9, 11],\n",
    "  'weights': ['uniform', 'distance'],\n",
    "  'metric': ['euclidean', 'manhattan', 'minkowski']\n",
    "}"
   ]
  },
  {
   "cell_type": "code",
   "execution_count": 12,
   "metadata": {},
   "outputs": [],
   "source": [
    "grid_search = GridSearchCV(knn, param_grid, refit=True,verbose=0, cv=5)"
   ]
  },
  {
   "cell_type": "code",
   "execution_count": null,
   "metadata": {},
   "outputs": [],
   "source": [
    "grid_search.fit(df_encoded, df_target)"
   ]
  },
  {
   "cell_type": "code",
   "execution_count": null,
   "metadata": {},
   "outputs": [],
   "source": [
    "grid_search.best_params_"
   ]
  },
  {
   "cell_type": "code",
   "execution_count": 15,
   "metadata": {},
   "outputs": [],
   "source": [
    "model = KNeighborsClassifier(\n",
    "  n_neighbors=3,\n",
    "  metric='euclidean',\n",
    "  weights='uniform'\n",
    ")\n",
    "model.fit(x_train, y_train)\n",
    "  \n",
    "previsoes = model.predict(x_test)\n",
    "taxa_acerto = accuracy_score(y_test, previsoes)"
   ]
  },
  {
   "cell_type": "code",
   "execution_count": null,
   "metadata": {},
   "outputs": [],
   "source": [
    "taxa_acerto"
   ]
  },
  {
   "cell_type": "code",
   "execution_count": null,
   "metadata": {},
   "outputs": [],
   "source": [
    "# Criar Matriz Confusão\n",
    "plt.figure(figsize=(15,10))\n",
    "matrix = ConfusionMatrix(KNeighborsClassifier())\n",
    "matrix.fit(x_train, y_train)\n",
    "matrix.score(x_test, y_test)\n",
    "matrix.poof()\n",
    "plt.show()"
   ]
  }
 ],
 "metadata": {
  "kernelspec": {
   "display_name": "venv",
   "language": "python",
   "name": "python3"
  },
  "language_info": {
   "codemirror_mode": {
    "name": "ipython",
    "version": 3
   },
   "file_extension": ".py",
   "mimetype": "text/x-python",
   "name": "python",
   "nbconvert_exporter": "python",
   "pygments_lexer": "ipython3",
   "version": "3.12.8"
  }
 },
 "nbformat": 4,
 "nbformat_minor": 2
}
