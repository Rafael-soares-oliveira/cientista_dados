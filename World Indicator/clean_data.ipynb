{
 "cells": [
  {
   "cell_type": "code",
   "execution_count": 62,
   "metadata": {},
   "outputs": [],
   "source": [
    "import pandas as pd\n",
    "import numpy as np\n",
    "import matplotlib.pyplot as plt\n",
    "import seaborn as sns"
   ]
  },
  {
   "cell_type": "code",
   "execution_count": 2,
   "metadata": {},
   "outputs": [],
   "source": [
    "gdp = pd.read_excel(\"gdp.xls\")\n",
    "gdp_per_capita = pd.read_excel(\"gdp_per_capita.xls\")\n",
    "df_indicator = pd.read_csv(\"better_life_index.csv\")"
   ]
  },
  {
   "cell_type": "markdown",
   "metadata": {},
   "source": [
    "#\n",
    "Clean GDP"
   ]
  },
  {
   "cell_type": "code",
   "execution_count": null,
   "metadata": {},
   "outputs": [],
   "source": [
    "# Verify null values\n",
    "gdp[gdp.isnull().any(axis=1)]"
   ]
  },
  {
   "cell_type": "code",
   "execution_count": 4,
   "metadata": {},
   "outputs": [],
   "source": [
    "# Remove null values\n",
    "gdp = gdp[~gdp.isnull().any(axis=1)]\n",
    "\n",
    "# Rename first column\n",
    "gdp = gdp.rename(\n",
    "  columns={\"GDP, current prices (Billions of U.S. dollars)\": \"Country\"})\n",
    "\n",
    "# Remove not coutries\n",
    "gdp = gdp.iloc[:196, :]\n",
    "\n",
    "# Replace 'no data' to NaN\n",
    "gdp = gdp.map(lambda x: np.nan if x == \"no data\" else x)\n",
    "\n",
    "# Pivot Table\n",
    "gdp = gdp.melt(\n",
    "  id_vars=[\"Country\"], var_name=\"Year\", value_name=\"GDP ($USD Billions)\")"
   ]
  },
  {
   "cell_type": "markdown",
   "metadata": {},
   "source": [
    "#\n",
    "Clean GDP Per Capita"
   ]
  },
  {
   "cell_type": "code",
   "execution_count": null,
   "metadata": {},
   "outputs": [],
   "source": [
    "# Verify null values\n",
    "gdp_per_capita[gdp_per_capita.isnull().any(axis=1)]"
   ]
  },
  {
   "cell_type": "code",
   "execution_count": 6,
   "metadata": {},
   "outputs": [],
   "source": [
    "# Remove null values\n",
    "gdp_per_capita = gdp_per_capita[~gdp_per_capita.isnull().any(axis=1)]\n",
    "\n",
    "# Rename first column\n",
    "gdp_per_capita = gdp_per_capita.rename(\n",
    "  columns={\n",
    "    \"GDP per capita, current prices\\n (U.S. dollars per capita)\": \"Country\"\n",
    "  }\n",
    ")\n",
    "\n",
    "# Remove not coutries\n",
    "gdp_per_capita = gdp_per_capita.iloc[:196, :]\n",
    "\n",
    "# Replace 'no data' to NaN\n",
    "gdp_per_capita = gdp_per_capita.map(lambda x: np.nan if x == \"no data\" else x)\n",
    "\n",
    "# Pivot Table\n",
    "gdp_per_capita = gdp_per_capita.melt(\n",
    "  id_vars=[\"Country\"], var_name=\"Year\", value_name=\"GDP Per Capita ($USD)\")"
   ]
  },
  {
   "cell_type": "markdown",
   "metadata": {},
   "source": [
    "#\n",
    "Clean Better Life Index"
   ]
  },
  {
   "cell_type": "code",
   "execution_count": 7,
   "metadata": {},
   "outputs": [],
   "source": [
    "# Verify columns that have only one value\n",
    "col_to_remove = []\n",
    "for col in df_indicator.columns:\n",
    "  if len(df_indicator[col].unique()) == 1:\n",
    "    col_to_remove.append(col)\n",
    "\n",
    "# Columns to Remove\n",
    "col_to_remove.append(\"LOCATION\")\n",
    "col_to_remove.append(\"INDICATOR\")\n",
    "col_to_remove.append(\"UNIT_MEASURE\")\n",
    "\n",
    "# Remove not used columns\n",
    "df_indicator = df_indicator.drop(\n",
    "  columns=col_to_remove\n",
    ")"
   ]
  },
  {
   "cell_type": "code",
   "execution_count": 8,
   "metadata": {},
   "outputs": [],
   "source": [
    "# Add a column with 'INEQUALITY' cleaned as 'Inequality'\n",
    "for i in range(len(df_indicator)):\n",
    "  match df_indicator.loc[i, \"INEQUALITY\"]:\n",
    "    case \"TOT\":\n",
    "      df_indicator.loc[i, \"Inequality\"] = \"Total\"\n",
    "    case \"WMN\":\n",
    "      df_indicator.loc[i, \"Inequality\"] = \"Women\"\n",
    "    case \"MN\":\n",
    "      df_indicator.loc[i, \"Inequality\"] = \"Men\"\n",
    "    case \"LW\":\n",
    "      df_indicator.loc[i, \"Inequality\"] = \"Low\"\n",
    "    case \"HGH\":\n",
    "      df_indicator.loc[i, \"Inequality\"] = \"High\""
   ]
  },
  {
   "cell_type": "code",
   "execution_count": 9,
   "metadata": {},
   "outputs": [],
   "source": [
    "# Remove column \"INEQUALITY\"\n",
    "df_indicator = df_indicator.drop(columns=\"INEQUALITY\")"
   ]
  },
  {
   "cell_type": "markdown",
   "metadata": {},
   "source": [
    "#\n",
    "Merge dataframes to get only countries that are present in both dataframes"
   ]
  },
  {
   "cell_type": "code",
   "execution_count": 10,
   "metadata": {},
   "outputs": [],
   "source": [
    "# Step 1: Merge gdp with gdp_per_capita\n",
    "# Step 2: Inner join with Better Life Index countries. The goal is to have only \n",
    "# countries present in both dataframes\n",
    "\n",
    "df_gdp_cleaned = gdp.merge(\n",
    "  gdp_per_capita,\n",
    "  how=\"inner\",\n",
    "  on=[\"Country\", \"Year\"]\n",
    ").merge(\n",
    "  df_indicator[\"Country\"],\n",
    "  how=\"inner\",\n",
    "  on=\"Country\"\n",
    ").drop_duplicates()"
   ]
  },
  {
   "cell_type": "code",
   "execution_count": 11,
   "metadata": {},
   "outputs": [],
   "source": [
    "# Countries that are not present in both dataframes\n",
    "country_out = df_indicator.merge(\n",
    "  df_gdp_cleaned[\"Country\"], how=\"outer\", on=\"Country\"\n",
    "  )[\"Country\"].unique()"
   ]
  },
  {
   "cell_type": "code",
   "execution_count": 12,
   "metadata": {},
   "outputs": [],
   "source": [
    "# Inner join Better Life Index countries with GDP countries. The goal is to have\n",
    "# only countries present in both dataframes\n",
    "df_indicator_cleaned = df_indicator.merge(\n",
    "  df_gdp_cleaned[\"Country\"],\n",
    "  how=\"inner\",\n",
    "  on=\"Country\"\n",
    ").drop_duplicates()\n",
    "\n",
    "# Keep only Inequality Total\n",
    "df_indicator_cleaned = df_indicator_cleaned[\n",
    "  df_indicator_cleaned[\"Inequality\"] == \"Total\"].drop(columns=\"Inequality\")"
   ]
  },
  {
   "cell_type": "markdown",
   "metadata": {},
   "source": [
    "#\n",
    "Create unique Dataframe for 2024"
   ]
  },
  {
   "cell_type": "code",
   "execution_count": 13,
   "metadata": {},
   "outputs": [],
   "source": [
    "# Only values from 2024\n",
    "gdp2024 = (\n",
    "  df_gdp_cleaned[df_gdp_cleaned[\"Year\"] == 2024].\n",
    "  drop(columns=\"Year\")\n",
    ")"
   ]
  },
  {
   "cell_type": "code",
   "execution_count": null,
   "metadata": {},
   "outputs": [],
   "source": [
    "# Create a dataframe with variable name and respective indicator\n",
    "indicator = pd.DataFrame(\n",
    "  df_indicator_cleaned[\"Indicator\"].unique(),\n",
    "  columns=[\"Indicator\"]\n",
    ")"
   ]
  },
  {
   "cell_type": "code",
   "execution_count": 23,
   "metadata": {},
   "outputs": [],
   "source": [
    "# Merge indicator dataframe with Unit of Measures\n",
    "indicator = indicator.merge(\n",
    "  df_indicator_cleaned[[\"Indicator\",\"Unit of Measures\"]].drop_duplicates(),\n",
    "  how=\"inner\",\n",
    "  on=\"Indicator\"\n",
    ")"
   ]
  },
  {
   "cell_type": "code",
   "execution_count": 53,
   "metadata": {},
   "outputs": [],
   "source": [
    "df_all = df_indicator_cleaned.drop(columns=\"Unit of Measures\").pivot_table(\n",
    "  values=\"OBS_VALUE\",\n",
    "  index=\"Country\",\n",
    "  columns=\"Indicator\"\n",
    ").reset_index(drop=False)"
   ]
  }
 ],
 "metadata": {
  "kernelspec": {
   "display_name": "venv",
   "language": "python",
   "name": "python3"
  },
  "language_info": {
   "codemirror_mode": {
    "name": "ipython",
    "version": 3
   },
   "file_extension": ".py",
   "mimetype": "text/x-python",
   "name": "python",
   "nbconvert_exporter": "python",
   "pygments_lexer": "ipython3",
   "version": "3.12.8"
  }
 },
 "nbformat": 4,
 "nbformat_minor": 2
}
