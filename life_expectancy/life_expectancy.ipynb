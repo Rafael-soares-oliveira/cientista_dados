{
 "cells": [
  {
   "cell_type": "markdown",
   "metadata": {},
   "source": [
    "<h1 style=\"font-size: 18px;\">Life Expectancy</h1>\n",
    "<span style=\"font-size: 14px;\">Source: https://www.kaggle.com/datasets/kumarajarshi/life-expectancy-who</span>"
   ]
  },
  {
   "cell_type": "markdown",
   "metadata": {},
   "source": [
    "<h1 style=\"font-size: 18px;\">Info</h1>"
   ]
  },
  {
   "cell_type": "markdown",
   "metadata": {},
   "source": [
    "<span style=\"font-size: 14px;\">\n",
    "The data-set aims to answer the following key questions:\n",
    "\n",
    "  - Does various predicting factors which has been chosen initially really affect the Life expectancy? What are the predicting variables actually affecting the life expectancy?\n",
    "  - Should a country having a lower life expectancy value(<65) increase its healthcare expenditure in order to improve its average lifespan?\n",
    "  - How does Infant and Adult mortality rates affect life expectancy?\n",
    "  - Does Life Expectancy has positive or negative correlation with eating habits, lifestyle, exercise, smoking, drinking alcohol etc.\n",
    "  - What is the impact of schooling on the lifespan of humans?\n",
    "  - Does Life Expectancy have positive or negative relationship with drinking alcohol?\n",
    "  - Do densely populated countries tend to have lower life expectancy?\n",
    "  - What is the impact of Immunization coverage on life Expectancy?\n",
    "</span>"
   ]
  },
  {
   "cell_type": "markdown",
   "metadata": {},
   "source": [
    "<span style=\"font-size: 14px;\">\n",
    "Columns:\n",
    "\n",
    "  - Country\n",
    "  - Year\n",
    "  - Status: Developed or Developing Status\n",
    "  - Life Expectancy: life expectancy in years\n",
    "  - Adult Mortality: adult mortality rates of both sex (probability of dying between 15 and 60 years per 1000 population)\n",
    "  - Infant Deaths: number of infant deaths per 1000 population\n",
    "  - Alcohol: alcohol, recorded per capita (15+) consumption (in litres of pure alcohol)\n",
    "  - Percentage Expenditure: expenditure on health as a percentage of gross domestic product per capita (%)\n",
    "  - Hepatitis B: hepatitis B (HepB) immunization coverage among-1-year-olds (%)\n",
    "  - Measles: number of reported cases per 1000 population\n",
    "  - BMI: average body mass index of entire population\n",
    "  - Under Five Deaths: number of under five deaths per 1000 population\n",
    "  - Polio: (Pol3) immunization coverage among 1-year-old (%)\n",
    "  - Total Expenditure: General government expenditure on health as a percentage of total government expenditure (%)\n",
    "  - Diphteria: Diphtheria tetanus toxoid and pertussis (DTP3) immunization coverage among 1-year-olds (%)\n",
    "  - HIV/AIDS: Deaths per 1 000 live births HIV/AIDS (0-4 years)\n",
    "  - GDP: Gross Domestic Product per capita (in USD)\n",
    "  - Population: Population of the country\n",
    "  - Thinness 10-19 years: Prevalence of thinness among children and adolescents for Age 10 to 19 (%)\n",
    "  - Thinness 5-9 years: Prevalence of thinness among children for Age 5 to 9(%)\n",
    "  - Income Composition of Resources: Human Development Index in terms of income composition of resources (index ranging from 0 to 1)\n",
    "  - Schooling: Number of years of Schooling (years)\n",
    "</span>"
   ]
  },
  {
   "cell_type": "markdown",
   "metadata": {},
   "source": [
    "<h1 style=\"font-size: 18px;\">Analysis</h1>"
   ]
  },
  {
   "cell_type": "code",
   "execution_count": null,
   "metadata": {
    "vscode": {
     "languageId": "plaintext"
    }
   },
   "outputs": [],
   "source": [
    "def dfs(grafo, vertice, visitados):\n",
    "    if vertice not in visitados:\n",
    "        print(vertice)  # Processa o vértice\n",
    "        visitados.add(vertice)\n",
    "        for vizinho in grafo[vertice]:\n",
    "            dfs(grafo, vizinho, visitados)"
   ]
  }
 ],
 "metadata": {
  "language_info": {
   "name": "python"
  }
 },
 "nbformat": 4,
 "nbformat_minor": 2
}
