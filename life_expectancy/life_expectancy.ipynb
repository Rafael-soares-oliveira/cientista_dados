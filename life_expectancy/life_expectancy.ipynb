{
 "cells": [
  {
   "cell_type": "markdown",
   "metadata": {},
   "source": [
    "<h1 style=\"font-size: 18px;\">Life Expectancy</h1>\n",
    "<span style=\"font-size: 14px;\">Source: https://www.kaggle.com/datasets/kumarajarshi/life-expectancy-who</span>"
   ]
  },
  {
   "cell_type": "markdown",
   "metadata": {},
   "source": [
    "<h1 style=\"font-size: 18px;\">Info</h1>"
   ]
  },
  {
   "cell_type": "markdown",
   "metadata": {},
   "source": [
    "<span style=\"font-size: 14px;\">\n",
    "The data-set aims to answer the following key questions:\n",
    "\n",
    "  - Does various predicting factors which has been chosen initially really affect the Life expectancy? What are the predicting variables actually affecting the life expectancy?\n",
    "  - Should a country having a lower life expectancy value(<65) increase its healthcare expenditure in order to improve its average lifespan?\n",
    "  - How does Infant and Adult mortality rates affect life expectancy?\n",
    "  - Does Life Expectancy has positive or negative correlation with eating habits, lifestyle, exercise, smoking, drinking alcohol etc.\n",
    "  - What is the impact of schooling on the lifespan of humans?\n",
    "  - Does Life Expectancy have positive or negative relationship with drinking alcohol?\n",
    "  - Do densely populated countries tend to have lower life expectancy?\n",
    "  - What is the impact of Immunization coverage on life Expectancy?\n",
    "</span>"
   ]
  },
  {
   "cell_type": "markdown",
   "metadata": {},
   "source": [
    "<span style=\"font-size: 14px;\">\n",
    "Columns:\n",
    "\n",
    "  - Country\n",
    "  - Year\n",
    "  - Status: Developed or Developing Status\n",
    "  - Life Expectancy: life expectancy in years\n",
    "  - Adult Mortality: adult mortality rates of both sex (probability of dying between 15 and 60 years per 1000 population)\n",
    "  - Infant Deaths: number of infant deaths per 1000 population\n",
    "  - Alcohol: alcohol, recorded per capita (15+) consumption (in litres of pure alcohol)\n",
    "  - Percentage Expenditure: expenditure on health as a percentage of gross domestic product per capita (%)\n",
    "  - Hepatitis B: hepatitis B (HepB) immunization coverage among-1-year-olds (%)\n",
    "  - Measles: number of reported cases per 1000 population\n",
    "  - BMI: average body mass index of entire population\n",
    "  - Under Five Deaths: number of under five deaths per 1000 population\n",
    "  - Polio: (Pol3) immunization coverage among 1-year-old (%)\n",
    "  - Total Expenditure: General government expenditure on health as a percentage of total government expenditure (%)\n",
    "  - Diphteria: Diphtheria tetanus toxoid and pertussis (DTP3) immunization coverage among 1-year-olds (%)\n",
    "  - HIV/AIDS: Deaths per 1 000 live births HIV/AIDS (0-4 years)\n",
    "  - GDP: Gross Domestic Product per capita (in USD)\n",
    "  - Population: Population of the country\n",
    "  - Thinness 10-19 years: Prevalence of thinness among children and adolescents for Age 10 to 19 (%)\n",
    "  - Thinness 5-9 years: Prevalence of thinness among children for Age 5 to 9(%)\n",
    "  - Income Composition of Resources: Human Development Index in terms of income composition of resources (index ranging from 0 to 1)\n",
    "  - Schooling: Number of years of Schooling (years)\n",
    "</span>"
   ]
  },
  {
   "cell_type": "markdown",
   "metadata": {},
   "source": [
    "<h1 style=\"font-size: 18px;\">Analysis</h1>"
   ]
  },
  {
   "cell_type": "code",
   "execution_count": null,
   "metadata": {},
   "outputs": [],
   "source": [
    "import pandas as pd\n",
    "import numpy as np\n",
    "import matplotlib.pyplot as plt\n",
    "import seaborn as sns\n",
    "from plotly import graph_objs as go\n",
    "from plotly import express as px\n",
    "from plotly.subplots import make_subplots\n",
    "from IPython.display import display, clear_output\n",
    "import ipywidgets as widgets"
   ]
  },
  {
   "cell_type": "code",
   "execution_count": null,
   "metadata": {},
   "outputs": [],
   "source": [
    "df = pd.read_csv(\"Life Expectancy Data.csv\", sep=\",\")"
   ]
  },
  {
   "cell_type": "code",
   "execution_count": null,
   "metadata": {},
   "outputs": [],
   "source": [
    "brazil = df[df[\"Country\"] == \"Brazil\"]"
   ]
  },
  {
   "cell_type": "code",
   "execution_count": null,
   "metadata": {},
   "outputs": [],
   "source": [
    "brazil.head(1)"
   ]
  },
  {
   "cell_type": "code",
   "execution_count": null,
   "metadata": {},
   "outputs": [],
   "source": [
    "# Plotagem das colunas em relação ao ano\n",
    "\n",
    "# Lista de colunas para o dropdown\n",
    "options = brazil.drop(columns=[\"Country\", \"Year\", \"Status\"]).columns.tolist()\n",
    "\n",
    "# Função para plotar usando Plotly\n",
    "def plot_data(column):\n",
    "    fig = px.line(brazil, x=brazil[\"Year\"], y=column, title=f\"{column}\")\n",
    "    fig.update_layout(\n",
    "        title={\"text\": f\"{column.title()}\", \"x\": 0.5}\n",
    "    )  # Centralizar título\n",
    "    clear_output(wait=True)  # Limpar a saída antes de exibir o novo gráfico\n",
    "    display(\n",
    "        widgets.HBox([dropdown], layout=widgets.Layout(justify_content=\"center\"))\n",
    "    )  # Centralizar o dropdown\n",
    "    fig.show()\n",
    "\n",
    "\n",
    "# Criar um dropdown widget para selecionar a coluna\n",
    "dropdown = widgets.Dropdown(\n",
    "    options=options,\n",
    ")\n",
    "\n",
    "\n",
    "# Função para chamar o plot_data com o valor do dropdown\n",
    "def update_plot(*args):\n",
    "    plot_data(dropdown.value)\n",
    "\n",
    "\n",
    "# Adicionar um observador ao widget para atualizar o gráfico\n",
    "dropdown.observe(update_plot, \"value\")\n",
    "\n",
    "# Mostrar o dropdown e plotar o gráfico inicial\n",
    "display(widgets.HBox([dropdown], layout=widgets.Layout(justify_content=\"center\")))\n",
    "plot_data(dropdown.value)"
   ]
  }
 ],
 "metadata": {
  "kernelspec": {
   "display_name": "venv",
   "language": "python",
   "name": "python3"
  },
  "language_info": {
   "codemirror_mode": {
    "name": "ipython",
    "version": 3
   },
   "file_extension": ".py",
   "mimetype": "text/x-python",
   "name": "python",
   "nbconvert_exporter": "python",
   "pygments_lexer": "ipython3",
   "version": "3.13.1"
  }
 },
 "nbformat": 4,
 "nbformat_minor": 2
}
