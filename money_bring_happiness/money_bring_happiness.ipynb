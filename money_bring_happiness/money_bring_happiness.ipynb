{
 "cells": [
  {
   "cell_type": "code",
   "execution_count": 1,
   "metadata": {},
   "outputs": [],
   "source": [
    "import pandas as pd\n",
    "import re\n",
    "import numpy as np\n",
    "import matplotlib.pyplot as plt\n",
    "from sklearn.linear_model import LinearRegression\n",
    "from yellowbrick.regressor import ResidualsPlot\n",
    "import statsmodels.formula.api as sm"
   ]
  },
  {
   "cell_type": "markdown",
   "metadata": {},
   "source": [
    "#\n",
    "Load and Transformation"
   ]
  },
  {
   "cell_type": "code",
   "execution_count": 2,
   "metadata": {},
   "outputs": [],
   "source": [
    "# File from OECD https://homl.info/4\n",
    "better_life = pd.read_csv(\"better_life_index_filtered.csv\")"
   ]
  },
  {
   "cell_type": "code",
   "execution_count": 3,
   "metadata": {},
   "outputs": [],
   "source": [
    "# File from IMF https://homl.info/5\n",
    "gdp = pd.read_csv(\"gdp.csv\", sep=\";\")"
   ]
  },
  {
   "cell_type": "code",
   "execution_count": 4,
   "metadata": {},
   "outputs": [],
   "source": [
    "# replace , for .\n",
    "gdp[\"USD_Billions\"] = gdp[\"USD_Billions\"].apply(\n",
    "  lambda x: re.sub(\",\", \".\", x)\n",
    ")\n",
    "\n",
    "# replace 'no data' for 0\n",
    "gdp[\"USD_Billions\"] = gdp[\"USD_Billions\"].apply(\n",
    "  lambda x: 0 if x == 'no data' else x\n",
    ")\n",
    "\n",
    "# convert to numeric\n",
    "gdp[\"USD_Billions\"] =  pd.to_numeric(\n",
    "  gdp[\"USD_Billions\"]\n",
    ")"
   ]
  },
  {
   "cell_type": "code",
   "execution_count": 5,
   "metadata": {},
   "outputs": [],
   "source": [
    "# File from IMF https://homl.info/5\n",
    "gdp_per_capita = pd.read_csv(\"gdp_per_capita.csv\", sep=\";\")"
   ]
  },
  {
   "cell_type": "code",
   "execution_count": 6,
   "metadata": {},
   "outputs": [],
   "source": [
    "# replace , for .\n",
    "gdp_per_capita[\"USD_Thousand\"] = gdp_per_capita[\"USD_Thousand\"].apply(\n",
    "  lambda x: re.sub(\",\", \".\", x)\n",
    ")\n",
    "\n",
    "# replace 'no data' for 0\n",
    "gdp_per_capita[\"USD_Thousand\"] = gdp_per_capita[\"USD_Thousand\"].apply(\n",
    "  lambda x: 0 if x == 'no data' else x\n",
    ")\n",
    "\n",
    "# convert to numeric\n",
    "gdp_per_capita[\"USD_Thousand\"] =  pd.to_numeric(\n",
    "  gdp_per_capita[\"USD_Thousand\"]\n",
    ")\n",
    "\n",
    "# transform to thousands\n",
    "gdp_per_capita[\"USD_Thousand\"] = gdp_per_capita[\"USD_Thousand\"].apply(\n",
    "  lambda x: round(x/1000, 3)\n",
    ")"
   ]
  },
  {
   "cell_type": "code",
   "execution_count": 7,
   "metadata": {},
   "outputs": [],
   "source": [
    "better_life = better_life.drop(\n",
    "  columns=[\n",
    "    \"STRUCTURE\", \"STRUCTURE_NAME\", \"ACTION\", \"STRUCTURE_ID\", \"MEASURE\",\n",
    "    \"Measure\", \"LOCATION\", \"Inequality\", \"Observation Value\",\n",
    "    \"Observation Status\", \"Base reference period\", \"BASE_PER\", \"Multiplier\",\n",
    "    \"UNIT_MEASURE\", \"OBS_STATUS\", \"UNIT_MULT\", \"INDICATOR\"\n",
    "    ]\n",
    "  )"
   ]
  },
  {
   "cell_type": "markdown",
   "metadata": {},
   "source": [
    "#\n",
    "Life Satisfaction"
   ]
  },
  {
   "cell_type": "code",
   "execution_count": 8,
   "metadata": {},
   "outputs": [],
   "source": [
    "# Filter by Indicator = 'Life satisfaction' and Inequality = 'Total'\n",
    "life_satisfaction = better_life[\n",
    "  (better_life[\"Indicator\"] == \"Life satisfaction\") &\n",
    "  (better_life[\"INEQUALITY\"] == \"TOT\")\n",
    "]\n",
    "\n",
    "# Drop unused columns\n",
    "life_satisfaction = life_satisfaction.drop(\n",
    "  columns=[\"Indicator\", \"Unit of Measures\", \"INEQUALITY\"]\n",
    ")\n",
    "\n",
    "# Rename columns\n",
    "life_satisfaction.columns = [\"Country\", \"Satisfaction_Score\"]"
   ]
  },
  {
   "cell_type": "code",
   "execution_count": 9,
   "metadata": {},
   "outputs": [],
   "source": [
    "# Merge dataframe gdp and gdp_per_capita\n",
    "df = gdp.merge(\n",
    "  gdp_per_capita,\n",
    "  how=\"inner\",\n",
    "  on=\"Country\"\n",
    ")\n",
    "\n",
    "# rename colummns\n",
    "df.columns = [\"Country\", \"GDP_USD_Billion\", \"GDP_PerCapita_USD_Thousand\"]"
   ]
  },
  {
   "cell_type": "code",
   "execution_count": 10,
   "metadata": {},
   "outputs": [],
   "source": [
    "# merge dataframe with life_satisfaction\n",
    "df = df.merge(\n",
    "  life_satisfaction,\n",
    "  how=\"inner\",\n",
    "  on=\"Country\"\n",
    ")"
   ]
  },
  {
   "cell_type": "code",
   "execution_count": 11,
   "metadata": {},
   "outputs": [],
   "source": [
    "# order by 'Satisfaction Score'\n",
    "df = df.sort_values(by=\"Satisfaction_Score\", ascending=False)"
   ]
  },
  {
   "cell_type": "code",
   "execution_count": 12,
   "metadata": {},
   "outputs": [],
   "source": [
    "x1 = df[\"GDP_PerCapita_USD_Thousand\"].values\n",
    "x2 = df[\"GDP_USD_Billion\"].values\n",
    "y = df[\"Satisfaction_Score\"].values"
   ]
  },
  {
   "cell_type": "code",
   "execution_count": 13,
   "metadata": {},
   "outputs": [],
   "source": [
    "# Correlation between GDP per Capita and Satisfaction is much bigger than GDP\n",
    "correlacao1 = np.corrcoef(x1,y)\n",
    "correlacao1 = round(correlacao1[1][0], 3)\n",
    "correlacao2 = np.corrcoef(x2, y)\n",
    "correlacao2 = round(correlacao2[1][0], 3)"
   ]
  },
  {
   "cell_type": "code",
   "execution_count": null,
   "metadata": {},
   "outputs": [],
   "source": [
    "print(f\"\\\n",
    "  Correlation between GDP per Capita and Satisfaction Score: {correlacao1}\\n\\\n",
    "  Correlation between GDP and Satisfaction Score {correlacao2}\\\n",
    "\")"
   ]
  },
  {
   "cell_type": "code",
   "execution_count": null,
   "metadata": {},
   "outputs": [],
   "source": [
    "# reshape to matrix format\n",
    "x1 = x1.reshape(-1, 1)\n",
    "\n",
    "# Create model and training\n",
    "modelo = LinearRegression()\n",
    "modelo.fit(x1, y)"
   ]
  },
  {
   "cell_type": "code",
   "execution_count": null,
   "metadata": {},
   "outputs": [],
   "source": [
    "print(f\"\\\n",
    "  Intercept:{round(modelo.intercept_, 3)} \\n\\\n",
    "  Coeficiente: {round(modelo.coef_[0], 3)}\")"
   ]
  },
  {
   "cell_type": "code",
   "execution_count": 17,
   "metadata": {},
   "outputs": [],
   "source": [
    "# Country with highest GDP Per Capita\n",
    "first_gdp_per_capita = df.sort_values(\n",
    "  by=\"GDP_PerCapita_USD_Thousand\", ascending=False).iloc[0,0]\n",
    "\n",
    "# Position on chart\n",
    "first_gdp_per_capita_position = (\n",
    "  df.sort_values(by=\"GDP_PerCapita_USD_Thousand\", ascending=False).iloc[0,2],\n",
    "  df.sort_values(by=\"GDP_PerCapita_USD_Thousand\", ascending=False).iloc[0,3]\n",
    ")\n",
    "\n",
    "# Country with second highest GDP Per Capita\n",
    "second_gdp_per_capita = df.sort_values(\n",
    "  by=\"GDP_PerCapita_USD_Thousand\", ascending=False).iloc[1,0]\n",
    "# Position on chart\n",
    "second_gdp_per_capita_position = (\n",
    "  df.sort_values(by=\"GDP_PerCapita_USD_Thousand\", ascending=False).iloc[1,2],\n",
    "  df.sort_values(by=\"GDP_PerCapita_USD_Thousand\", ascending=False).iloc[1,3]\n",
    ")\n",
    "\n",
    "# Country with lowest GDP Per Capita\n",
    "last_gdp_per_capita = df.nsmallest(1, \"GDP_PerCapita_USD_Thousand\").iloc[0,0]\n",
    "# Position on chart\n",
    "last_gdp_per_capita_position = (\n",
    "  df.nsmallest(1, \"GDP_PerCapita_USD_Thousand\").iloc[0,2],\n",
    "  df.nsmallest(1, \"GDP_PerCapita_USD_Thousand\").iloc[0,3]\n",
    ")"
   ]
  },
  {
   "cell_type": "code",
   "execution_count": null,
   "metadata": {},
   "outputs": [],
   "source": [
    "# Plot\n",
    "titlefont1 = {'family':'serif','color':'blue','size':16, 'weight':'bold'}\n",
    "\n",
    "plt.scatter(x1,y, )\n",
    "plt.plot(x1, modelo.predict(x1), color=\"red\")\n",
    "plt.xlabel(\n",
    "  \"GDP Per Capita - $ Thousands\",\n",
    "  fontdict={\"fontsize\":11, \"weight\":'bold'}\n",
    ")\n",
    "plt.ylabel(\n",
    "  \"Satisfaction Score\",\n",
    "  fontdict={\"fontsize\":11, \"weight\":'bold'}\n",
    ")\n",
    "plt.title((\"Does money bring happiness?\").upper(), fontdict=titlefont1, y=1.05)\n",
    "\n",
    "plt.text(\n",
    "  x=15,\n",
    "  y=8.1,\n",
    "  s=f\"Correlation: {round(correlacao1, 3)}\",\n",
    "  fontsize=12,\n",
    "  bbox=dict(facecolor=\"white\", alpha=1)\n",
    ")\n",
    "\n",
    "plt.annotate(\n",
    "  first_gdp_per_capita,\n",
    "  xy=([x-0.1 for x in first_gdp_per_capita_position]),\n",
    "  fontsize=10,\n",
    "  xytext=(136,6.9),\n",
    "  arrowprops=dict(facecolor='red'),\n",
    "  color='b'\n",
    ")\n",
    "\n",
    "plt.annotate(\n",
    "  second_gdp_per_capita,\n",
    "  xy=([x-0.1 for x in second_gdp_per_capita_position]),\n",
    "  fontsize=10,\n",
    "  xytext=(122,6.5),\n",
    "  arrowprops=dict(facecolor='red'),\n",
    "  color='b'\n",
    ")\n",
    "\n",
    "plt.annotate(\n",
    "  last_gdp_per_capita,\n",
    "  xy=(18, 4.9),\n",
    "  fontsize=10,\n",
    "  xytext=(26,4.85),\n",
    "  arrowprops=dict(facecolor='red'),\n",
    "  color='b'\n",
    ")\n",
    "plt.show()"
   ]
  },
  {
   "cell_type": "code",
   "execution_count": null,
   "metadata": {},
   "outputs": [],
   "source": [
    "# Residuals plot\n",
    "residuals = ResidualsPlot(modelo)\n",
    "residuals.fit(x1,y)\n",
    "residuals.poof()\n",
    "plt.show()"
   ]
  },
  {
   "cell_type": "markdown",
   "metadata": {},
   "source": [
    "#\n",
    "Create a dataframe for each 'Indicator'"
   ]
  },
  {
   "cell_type": "code",
   "execution_count": 20,
   "metadata": {},
   "outputs": [],
   "source": [
    "# Create a dataframe with variable and respective indicator\n",
    "indicator = pd.DataFrame(\n",
    "  zip(\n",
    "    better_life[\"Indicator\"].str.lower().str.replace(\" \", \"_\").unique(),\n",
    "    better_life[\"Indicator\"].unique()\n",
    "  ),\n",
    "  columns=[\"Variable\", \"Indicator\"]\n",
    ")"
   ]
  },
  {
   "cell_type": "code",
   "execution_count": null,
   "metadata": {},
   "outputs": [],
   "source": [
    "df = better_life.drop(\n",
    "  columns=[\n",
    "    \"STRUCTURE\", \"STRUCTURE_NAME\", \"ACTION\", \"STRUCTURE_ID\", \"MEASURE\",\n",
    "    \"Measure\", \"LOCATION\", \"INEQUALITY\", \"Observation Value\",\n",
    "    \"Observation Status\", \"Base reference period\", \"BASE_PER\", \"Multiplier\",\n",
    "    \"UNIT_MEASURE\", \"OBS_STATUS\", \"UNIT_MULT\", \"INDICATOR\"\n",
    "    ]\n",
    "  )"
   ]
  },
  {
   "cell_type": "code",
   "execution_count": 17,
   "metadata": {},
   "outputs": [],
   "source": [
    "# Create a dataframe for each indicator\n",
    "for a in range(len(indicator)):\n",
    "  locals()[\n",
    "    indicator[\"Variable\"][a]\n",
    "    ] = df[better_life[\"Indicator\"] == indicator[\"Indicator\"][a]]"
   ]
  },
  {
   "cell_type": "code",
   "execution_count": null,
   "metadata": {},
   "outputs": [],
   "source": [
    "for i in indicator[\"Variable\"]:\n",
    "  print(i)"
   ]
  }
 ],
 "metadata": {
  "kernelspec": {
   "display_name": "venv",
   "language": "python",
   "name": "python3"
  },
  "language_info": {
   "codemirror_mode": {
    "name": "ipython",
    "version": 3
   },
   "file_extension": ".py",
   "mimetype": "text/x-python",
   "name": "python",
   "nbconvert_exporter": "python",
   "pygments_lexer": "ipython3",
   "version": "3.12.8"
  }
 },
 "nbformat": 4,
 "nbformat_minor": 2
}
