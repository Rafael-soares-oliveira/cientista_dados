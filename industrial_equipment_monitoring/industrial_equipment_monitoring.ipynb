{
 "cells": [
  {
   "cell_type": "markdown",
   "metadata": {},
   "source": [
    "# <h1 style=\"font-size: 18px;\"> Info</h1>"
   ]
  },
  {
   "cell_type": "markdown",
   "metadata": {},
   "source": [
    "https://www.kaggle.com/datasets/dnkumars/industrial-equipment-monitoring-dataset?resource=download<br>\n",
    "<span style=\"font-size: 16px;\">\n",
    "This dataset contains simulated data representing real-time monitoring of various industrial equipment, including turbines,<br> compressors, and pumps. Each row in the dataset corresponds to a unique observation capturing key parameters such as temperature,<br> pressure, vibration, and humidity. The dataset also includes information about the equipment type, location, and whether the equipment is classified as faulty.\n",
    "</span>\n",
    "<br>"
   ]
  },
  {
   "cell_type": "markdown",
   "metadata": {},
   "source": [
    "<span style=\"font-size: 16px;\">\n",
    "- Columns Description:<br>\n",
    "- temperature: Temperature reading at the time of observation (in °C).<br>\n",
    "- pressure: Pressure reading at the time of observation (in bar).<br>\n",
    "- vibration: Vibration level reading (normalized units).<br>\n",
    "- humidity: Humidity percentage recorded at the location of the equipment.<br>\n",
    "- equipment: Type of industrial equipment being monitored (e.g., Turbine, Compressor, Pump).<br>\n",
    "- location: Location of the equipment (city name).<br>\n",
    "- faulty: Binary indicator (0 = Not Faulty, 1 = Faulty) to specify whether the equipment is functioning properly or requires maintenance.<br>\n",
    "</span>"
   ]
  },
  {
   "cell_type": "markdown",
   "metadata": {},
   "source": [
    "# <h1 style=\"font-size: 18px;\"> Industrial Analysis</h1>"
   ]
  },
  {
   "cell_type": "code",
   "execution_count": 4,
   "metadata": {},
   "outputs": [],
   "source": [
    "import pandas as pd\n",
    "import numpy as np\n",
    "\n",
    "# Visualization\n",
    "import matplotlib.pyplot as plt\n",
    "import seaborn as sns\n",
    "import plotly.graph_objects as go\n",
    "import plotly.express as px\n",
    "\n",
    "# Models\n",
    "from sklearn.neighbors import KNeighborsClassifier\n",
    "from sklearn.ensemble import RandomForestClassifier\n",
    "from sklearn.linear_model import LogisticRegression\n",
    "\n",
    "# Pipeline\n",
    "from imblearn.pipeline import Pipeline as ImbPipeline\n",
    "\n",
    "# Metrics\n",
    "from sklearn.metrics import accuracy_score, confusion_matrix, classification_report\n",
    "\n",
    "# Preprocessing\n",
    "from sklearn.model_selection import train_test_split, GridSearchCV\n",
    "from sklearn.preprocessing import StandardScaler\n",
    "from imblearn.under_sampling import ClusterCentroids\n",
    "from imblearn.over_sampling import SMOTE"
   ]
  },
  {
   "cell_type": "code",
   "execution_count": null,
   "metadata": {},
   "outputs": [],
   "source": [
    "# Import data\n",
    "df = pd.read_csv(\"equipment_anomaly_data.csv\")"
   ]
  },
  {
   "cell_type": "code",
   "execution_count": 65,
   "metadata": {},
   "outputs": [],
   "source": [
    "# Create a class to reduce the quantity of code\n",
    "class Analysis:\n",
    "  \"\"\"\n",
    "  Class to analyze the dataframe.\n",
    "    \n",
    "  Attributes:\n",
    "  - proportion: Print proportion of each categorical column and dependent variable\n",
    "  - plot_kde: Plot the density curve of each numeric column\n",
    "  - plot_boxplot: Plot the BoxPlot of each numeric column\n",
    "  - outliers: Returns a dict of outliers of each numeric column\n",
    "  - correlation: Print the correlation between numeric columns and dependent variable\n",
    "  - corr_heatmap: Plot a HeatMap of the Correlation\n",
    "  - logistic_plot: Plot a ScatterPlot of each numeric column and dependent variable\n",
    "  \"\"\"\n",
    "  def __init__(self, dataframe):\n",
    "    self.data = dataframe\n",
    "    \n",
    "  # Proportion\n",
    "  @property\n",
    "  def proportion(self):\n",
    "    \"\"\"\n",
    "      Return the proportion of categorical columns also the dependent variable\n",
    "    \"\"\"\n",
    "    data = self.data\n",
    "    for col in data[[\"equipment\", \"location\", \"faulty\"]]:\n",
    "      print(f\"{data[col].value_counts(normalize=True)}\\n\")\n",
    "  \n",
    "  # Plot Density Curve\n",
    "  @property\n",
    "  def plot_kde(self):\n",
    "    \"\"\"Fuction to plot density curve\n",
    "      \n",
    "    Columns:\n",
    "    - temperature\n",
    "    - pressure\n",
    "    - vibration\n",
    "    - humidity\n",
    "    \"\"\"\n",
    "    data = self.data\n",
    "    for col in data[[\"temperature\", \"pressure\", \"vibration\", \"humidity\"]]:\n",
    "      plt.figure(figsize=(10,4))\n",
    "      sns.kdeplot(data[col], fill=True)\n",
    "      plt.axvline(\n",
    "        data[col].median(),\n",
    "        color=\"red\",\n",
    "        label=f\"Median: {round(data[col].median(), 2)}\",\n",
    "        linestyle=\"dashed\"\n",
    "      )\n",
    "      plt.axvline(\n",
    "        data[col].mean(),\n",
    "        color=\"green\",\n",
    "        label=f\"Mean: {round(data[col].mean(), 2)}\",\n",
    "        linestyle=\"dashed\"\n",
    "      )\n",
    "      plt.legend(loc=0)\n",
    "      plt.show()\n",
    "\n",
    "  # Plot Boxplot\n",
    "  @property\n",
    "  def plot_boxplot(self):\n",
    "    \"\"\"Plot the BoxPlot of the numeric columns\n",
    "    \"\"\"\n",
    "    data = self.data\n",
    "    for col in data.drop(columns=[\"equipment\", \"location\", \"faulty\"]):\n",
    "      fig = px.box(data, y=col)\n",
    "      fig.update_layout(\n",
    "        scene=dict(\n",
    "          xaxis_title='Temperature',\n",
    "          yaxis_title='Pressure',\n",
    "          zaxis_title='Vibration'\n",
    "        ),\n",
    "        width=1000, height=800\n",
    "      )\n",
    "      fig.show()\n",
    "  \n",
    "  # Método do Quartil.\n",
    "  @property\n",
    "  def outliers(self):\n",
    "    \"\"\"Return a dict with the outliers of each numeric column\n",
    "\n",
    "    Returns:\n",
    "        dict: variable name:outliers\n",
    "    \"\"\"\n",
    "    outliers = {}\n",
    "    data = self.data\n",
    "    for col in data.drop(columns=[\"equipment\", \"location\", \"faulty\"]):\n",
    "      Q1 = data[col].quantile(0.25)\n",
    "      Q3 = data[col].quantile(0.75)\n",
    "      IQR = Q3 - Q1\n",
    "      \n",
    "      aux_outliers = data[\n",
    "        (data[col] < Q1-(IQR*1.5)) |\n",
    "        (data[col] > Q3+(IQR*1.5))\n",
    "      ]\n",
    "      \n",
    "      outliers.update({col:aux_outliers.index.tolist()})\n",
    "      \n",
    "    return outliers\n",
    "  \n",
    "  # Correlation with Faulty\n",
    "  @property\n",
    "  def correlation(self):\n",
    "    \"\"\"Print correlation between numeric columns and faulty column\n",
    "    \"\"\"\n",
    "    data = self.data\n",
    "    for col in data.drop(columns=[\"equipment\", \"location\", \"faulty\"]):\n",
    "      print(\n",
    "        f\"Correlation {col} x faulty: {round(\n",
    "          np.corrcoef(data[col], data[\"faulty\"])[0][1], 3)}\")\n",
    "  \n",
    "  # Correlation HeatMap\n",
    "  def corr_heatmap(self):\n",
    "    \"\"\"Plot a HeatMap of Correlation between numeric columns\n",
    "    \"\"\"\n",
    "    plt.figure(figsize=(12, 6))\n",
    "    sns.heatmap(df.drop(columns=[\"equipment\", \"location\"]).corr(), annot=True)\n",
    "    plt.title(\n",
    "      \"Correlation\".upper(),\n",
    "      fontdict={'family':'calibri', 'fontsize':18, 'weight':'bold', 'color':'red'},\n",
    "      pad=20\n",
    "    )\n",
    "    plt.show()\n",
    "    \n",
    "  # Plot Logistic Plot\n",
    "  def logistic_plot(self):\n",
    "    \"\"\"ScatterPlot for all numeric columns where y=faulty\"\"\"\n",
    "    data = self.data\n",
    "    for col in data.drop(columns=[\"equipment\", \"location\", \"faulty\"]):\n",
    "      fig = go.Figure()\n",
    "      fig.add_trace(go.Scatter(\n",
    "        x=data[col],\n",
    "        y=data[\"faulty\"],\n",
    "        mode='markers',\n",
    "        marker_color=data[\"faulty\"]\n",
    "        )\n",
    "      )\n",
    "      fig.show()\n",
    "    \n",
    "  def scatter_plot(self):\n",
    "    data = self.data\n",
    "    sns.pairplot(\n",
    "      data=data[[\"temperature\",\"pressure\",\"vibration\",\"humidity\", \"faulty\"]],\n",
    "      hue=\"faulty\")\n",
    "    plt.show()\n",
    "\n",
    "  def scatter3d(self):\n",
    "    data = self.data\n",
    "    \n",
    "    data_0 = data[data[\"faulty\"] == 0]\n",
    "    data_1 = data[data[\"faulty\"] == 1]\n",
    "    \n",
    "    # Create a trace for faulty False\n",
    "    faulty0 = go.Scatter3d(\n",
    "      x=data_0[\"temperature\"],\n",
    "      y=data_0[\"pressure\"],\n",
    "      z=data_0[\"vibration\"],\n",
    "      mode=\"markers\",\n",
    "      marker=dict(\n",
    "        size=3,\n",
    "        color=\"blue\",\n",
    "        symbol=\"circle\"\n",
    "      ),\n",
    "      name=\"Faulty False\"\n",
    "    )\n",
    "\n",
    "    # Create a trace for faulty True\n",
    "    faulty_1 = go.Scatter3d(\n",
    "      x=data_1[\"temperature\"],\n",
    "      y=data_1[\"pressure\"],\n",
    "      z=data_1[\"vibration\"],\n",
    "      mode=\"markers\",\n",
    "      marker=dict(\n",
    "        size=3,\n",
    "        color=\"red\",\n",
    "        symbol=\"circle\"\n",
    "      ),\n",
    "      name=\"Faulty True\"\n",
    "    )\n",
    "\n",
    "    # Configure graph layout\n",
    "    layout = go.Layout(\n",
    "      scene=dict(\n",
    "        xaxis_title=\"Temperature\",\n",
    "        yaxis_title=\"Pressure\",\n",
    "        zaxis_title=\"Vibration\"\n",
    "      ),\n",
    "      legend=dict(\n",
    "        x=0,\n",
    "        y=1\n",
    "      ),\n",
    "      width=1000,\n",
    "      height=800\n",
    "    )\n",
    "\n",
    "    # Create a figure and add the traces\n",
    "    fig = go.Figure(\n",
    "      data=[faulty0, faulty_1],\n",
    "      layout=layout)\n",
    "\n",
    "    fig.update_layout(\n",
    "      title={\n",
    "        'text':\"<b>Equipment Anomaly</b>\",\n",
    "        'font': {\n",
    "          'family':'Arial Black',\n",
    "          'size': 30,\n",
    "          'color': 'black'\n",
    "        },\n",
    "        'x': 0.5,\n",
    "        'xanchor': 'center'\n",
    "      },\n",
    "      legend={\n",
    "        'font': {\n",
    "          'family':'Calibri',\n",
    "          'size': 16,\n",
    "          'color': 'black'\n",
    "      },\n",
    "        'itemsizing':'constant'} # Increase legend marker size\n",
    "    )\n",
    "    # Show graph\n",
    "    fig.show()"
   ]
  },
  {
   "cell_type": "code",
   "execution_count": 1,
   "metadata": {},
   "outputs": [],
   "source": [
    "# Create a class to reduce the quantity of code\n",
    "class TrainedModel:\n",
    "  \"\"\"Build and Train a RandomForestClassifier. Will load all class when run the code.\n",
    "\n",
    "    Attributes:\n",
    "    - X_train: 80% of Independents Variables\n",
    "    - X_test: 20% of Independents Variables\n",
    "    - Y_train 80% of Dependents Variables\n",
    "    - Y_test: 20% of Dependents Variables\n",
    "    - model: Trained Random Forest Model\n",
    "    - y_pred: Predicted values\n",
    "    - accuracy: Model accuracy\n",
    "    - conf_matrix: Confusion Matrix of predicted values\n",
    "    - class_report: Text report that shows main metrics\n",
    "    - plot_conf_matrix(): Plot Confusion Matrix\n",
    "    - scatter_3d_test_data(): Plot a 3D scatter of predicted values\n",
    "  \"\"\"\n",
    "  def __init__(self, dataframe):\n",
    "    self.data = dataframe\n",
    "    self.X_train, self.X_test, self.Y_train, self.Y_test = self.__train_data\n",
    "    self.model, self.y_pred, self.accuracy, self.conf_matrix, self.class_report = self.__best_model\n",
    "  \n",
    "  @property\n",
    "  def __train_data(self):\n",
    "    data = self.data\n",
    "    X = data.drop(columns=[\"equipment\", \"location\", \"faulty\", \"humidity\"]).values\n",
    "    Y = data[\"faulty\"].values\n",
    "\n",
    "    X_train, X_test, y_train, y_test = train_test_split(\n",
    "      X,\n",
    "      Y,\n",
    "      test_size=0.2,\n",
    "      random_state=42\n",
    "    )\n",
    "    return X_train, X_test, y_train, y_test\n",
    "  \n",
    "  @property\n",
    "  def __best_model(self):\n",
    "    \"\"\"Build and Train a RandomForestClassifier Model with GrindSearchCV\n",
    "\n",
    "    Returns:\n",
    "      5 variables:\n",
    "        - Trained ML Model\n",
    "        - Prediction\n",
    "        - Accuracy\n",
    "        - Confusion Matrix\n",
    "        - Classification Report\n",
    "    \"\"\"\n",
    "    \n",
    "    X_train = self.X_train\n",
    "    X_test = self.X_test\n",
    "    y_train = self.Y_train\n",
    "    y_test = self.Y_test\n",
    "    \n",
    "    # Definir o pipeline\n",
    "    pipeline = ImbPipeline([\n",
    "      ('scaler', StandardScaler()),\n",
    "      ('sampling', SMOTE()),  # Aplicar SMOTE para oversampling\n",
    "      ('cluster_under', ClusterCentroids()),  # Aplicar Cluster Centroids para undersampling\n",
    "      ('classifier', KNeighborsClassifier())\n",
    "    ])\n",
    "\n",
    "    # Definir os hiperparâmetros para o GridSearch\n",
    "    param_grid = [\n",
    "      {\n",
    "        'classifier': [KNeighborsClassifier()],\n",
    "        'classifier__n_neighbors': [3, 5, 7]\n",
    "      },\n",
    "      {\n",
    "        'classifier': [RandomForestClassifier()],\n",
    "        'classifier__n_estimators': [50, 100, 200],\n",
    "        'classifier__max_depth': [None, 10, 20]\n",
    "      },\n",
    "      {\n",
    "        'classifier': [LogisticRegression(max_iter=1000)],\n",
    "        'classifier__C': [0.1, 1, 10],\n",
    "        'classifier__solver': ['liblinear', 'saga']\n",
    "      }\n",
    "    ]\n",
    "\n",
    "    # Realizar o GridSearch\n",
    "    grid_search = GridSearchCV(pipeline, param_grid, cv=5, n_jobs=-1)\n",
    "    grid_search.fit(X_train, y_train)\n",
    "\n",
    "    y_pred = grid_search.predict(X_test)\n",
    "    accuracy = accuracy_score(y_test, y_pred)\n",
    "    conf_matrix = confusion_matrix(y_test, y_pred)\n",
    "    class_report = classification_report(y_test, y_pred)\n",
    "\n",
    "    return grid_search, y_pred, accuracy, conf_matrix, class_report\n",
    "  \n",
    "  # Ploting the Confusion Matrix\n",
    "  def plot_conf_matrix(self):\n",
    "    \"\"\"Plot a Confusion Matrix\n",
    "\n",
    "    Args:\n",
    "        conf_matrix (matrix): Confusion Matrix calculated\n",
    "        y_train (array): Data for Test\n",
    "        title (str): Graph Title\n",
    "    \"\"\"\n",
    "    \n",
    "    conf_matrix = self.conf_matrix\n",
    "    plt.figure(figsize=(10, 7))\n",
    "    ax= sns.heatmap(\n",
    "      conf_matrix,\n",
    "      annot=True,\n",
    "      fmt='d',\n",
    "      cmap='Blues',\n",
    "      xticklabels=[0,1],\n",
    "      yticklabels=[0,1]\n",
    "    )\n",
    "\n",
    "\n",
    "    plt.xlabel('Predicted', fontdict={'fontsize':14}, labelpad=20)\n",
    "    plt.ylabel('Actual', fontdict={'fontsize':14}, labelpad=20)\n",
    "    plt.title(\"Confusion Matrix\", fontdict={'fontsize':16})\n",
    "    plt.show();\n",
    "\n",
    "\n",
    "  # Create a trace for True Positive data\n",
    "  def scatter_3d_test_data(self):\n",
    "    \"\"\"Create a Scatter Plot 3D of the prediction\n",
    "\n",
    "    Args:\n",
    "        x_test (ndarray): Array with the test data of 3 independent variables\n",
    "        y_test (ndarray): Array with the test data of dependent variable\n",
    "        y_pred (ndarray): Array of predicted values\n",
    "    \"\"\"\n",
    "\n",
    "    X_test = self.X_test\n",
    "    y_test = self.Y_test\n",
    "    y_pred = self.y_pred\n",
    "    \n",
    "    class_TF = X_test[(y_test == 1) & (y_pred == 0)]\n",
    "    class_TT = X_test[(y_test == 1) & (y_pred == 1)]\n",
    "    class_FF = X_test[(y_test == 0) & (y_pred == 0)]\n",
    "    class_FT = X_test[(y_test == 0) & (y_pred == 1)]\n",
    "\n",
    "    true_positive = go.Scatter3d(\n",
    "      x=class_TT[:, 0],\n",
    "      y=class_TT[:, 1],\n",
    "      z=class_TT[:, 2],\n",
    "      mode=\"markers\",\n",
    "      marker=dict(\n",
    "        size=5,\n",
    "        color=\"blue\",\n",
    "        symbol=\"circle\"\n",
    "      ),\n",
    "      name=\"True Positive\"\n",
    "    )\n",
    "\n",
    "    # Create a trace for True Negative data\n",
    "    true_negative = go.Scatter3d(\n",
    "      x=class_FF[:, 0],\n",
    "      y=class_FF[:, 1],\n",
    "      z=class_FF[:, 2],\n",
    "      mode=\"markers\",\n",
    "      marker=dict(\n",
    "        size=5,\n",
    "        color=\"green\",\n",
    "        symbol=\"circle\"\n",
    "      ),\n",
    "      name=\"True Negative\"\n",
    "    )\n",
    "\n",
    "    # Create a trace for False Positive data\n",
    "    false_positive = go.Scatter3d(\n",
    "      x=class_FT[:, 0],\n",
    "      y=class_FT[:, 1],\n",
    "      z=class_FT[:, 2],\n",
    "      mode=\"markers\",\n",
    "      marker=dict(\n",
    "        size=5,\n",
    "        color=\"red\",\n",
    "        symbol=\"circle\"\n",
    "      ),\n",
    "      name=\"False Positive\"\n",
    "    )\n",
    "\n",
    "    # Create a trace for False Negative data\n",
    "    false_negative = go.Scatter3d(\n",
    "      x=class_TF[:, 0],\n",
    "      y=class_TF[:, 1],\n",
    "      z=class_TF[:, 2],\n",
    "      mode=\"markers\",\n",
    "      marker=dict(\n",
    "        size=5,\n",
    "        color=\"orange\",\n",
    "        symbol=\"circle\"\n",
    "      ),\n",
    "      name=\"False Negative\"\n",
    "    )\n",
    "\n",
    "    # Configure graph layout\n",
    "    layout = go.Layout(\n",
    "      scene=dict(\n",
    "        xaxis_title=\"Temperature\",\n",
    "        yaxis_title=\"Pressure\",\n",
    "        zaxis_title=\"Vibration\"\n",
    "      ),\n",
    "      legend=dict(\n",
    "        x=0,\n",
    "        y=1\n",
    "      ),\n",
    "      width=1000,\n",
    "      height=800\n",
    "    )\n",
    "\n",
    "    # Create a figure and add the traces\n",
    "    fig = go.Figure(\n",
    "      data=[true_positive, true_negative, false_positive, false_negative],\n",
    "      layout=layout)\n",
    "\n",
    "    fig.update_layout(\n",
    "      title={\n",
    "        'text':\"<b>Predict Values</b>\",\n",
    "        'font': {\n",
    "          'family':'Arial Black',\n",
    "          'size': 30,\n",
    "          'color': 'black'\n",
    "        },\n",
    "        'x': 0.5,\n",
    "        'xanchor': 'center'\n",
    "      },\n",
    "      legend={\n",
    "        'font': {\n",
    "          'family':'Calibri',\n",
    "          'size': 16,\n",
    "          'color': 'black'\n",
    "      },\n",
    "        'itemsizing':'constant'} # Increase legend marker size\n",
    "    )\n",
    "    # Show graph\n",
    "    fig.show()"
   ]
  },
  {
   "cell_type": "code",
   "execution_count": 28,
   "metadata": {},
   "outputs": [],
   "source": [
    "# Print scatter 3d text structure\n",
    "# https://miabellaai.net/index.html to visualize online\n",
    "def scatter3d_text(dataframe):\n",
    "  output_text = \"Interactive 3D Scatter Plot;\\n::temperature::pressure::vibration;\\n\"\n",
    "\n",
    "  # Iterate over the data\n",
    "  for idx, row in dataframe.iterrows():\n",
    "      output_text += f\"#{idx + 1}::{round(row[\"temperature\"],5)}::{round(row[\"pressure\"], 5)}::{round(row[\"vibration\"], 5)}::{row[\"faulty\"]:.0f}::10::A::1::0::0::0::0;\\n\"\n",
    "\n",
    "  print(output_text)"
   ]
  },
  {
   "cell_type": "markdown",
   "metadata": {},
   "source": [
    "# <h1 style=\"font-size:20px\">All Equipments</h1>"
   ]
  },
  {
   "cell_type": "markdown",
   "metadata": {},
   "source": [
    "## <h1 style=\"font-size:20px\">Analysis</h1>"
   ]
  },
  {
   "cell_type": "code",
   "execution_count": null,
   "metadata": {},
   "outputs": [],
   "source": [
    "# Stats\n",
    "df.describe()"
   ]
  },
  {
   "cell_type": "code",
   "execution_count": null,
   "metadata": {},
   "outputs": [],
   "source": [
    "# Presence null values\n",
    "df.info()"
   ]
  },
  {
   "cell_type": "code",
   "execution_count": 66,
   "metadata": {},
   "outputs": [],
   "source": [
    "analysis = Analysis(df)"
   ]
  },
  {
   "cell_type": "code",
   "execution_count": null,
   "metadata": {},
   "outputs": [],
   "source": [
    "analysis.scatter_plot()"
   ]
  },
  {
   "cell_type": "code",
   "execution_count": null,
   "metadata": {},
   "outputs": [],
   "source": [
    "analysis.plot_kde"
   ]
  },
  {
   "cell_type": "code",
   "execution_count": null,
   "metadata": {},
   "outputs": [],
   "source": [
    "analysis.plot_boxplot"
   ]
  },
  {
   "cell_type": "code",
   "execution_count": null,
   "metadata": {},
   "outputs": [],
   "source": [
    "analysis.proportion"
   ]
  },
  {
   "cell_type": "code",
   "execution_count": null,
   "metadata": {},
   "outputs": [],
   "source": [
    "analysis.outliers[\"temperature\"]"
   ]
  },
  {
   "cell_type": "code",
   "execution_count": null,
   "metadata": {},
   "outputs": [],
   "source": [
    "analysis.correlation"
   ]
  },
  {
   "cell_type": "code",
   "execution_count": null,
   "metadata": {},
   "outputs": [],
   "source": [
    "analysis.corr_heatmap"
   ]
  },
  {
   "cell_type": "code",
   "execution_count": null,
   "metadata": {},
   "outputs": [],
   "source": [
    "analysis.logistic_plot"
   ]
  },
  {
   "cell_type": "code",
   "execution_count": null,
   "metadata": {},
   "outputs": [],
   "source": [
    "analysis.scatter3d()"
   ]
  },
  {
   "cell_type": "code",
   "execution_count": null,
   "metadata": {},
   "outputs": [],
   "source": [
    "# https://miabellaai.net/index.html to visualize online\n",
    "scatter3d_text(df)"
   ]
  },
  {
   "cell_type": "markdown",
   "metadata": {},
   "source": [
    "## <h1 style=\"font-size:20px\">Machine Learning</h1>"
   ]
  },
  {
   "cell_type": "code",
   "execution_count": null,
   "metadata": {},
   "outputs": [],
   "source": [
    "all_equip = TrainedModel(df)"
   ]
  },
  {
   "cell_type": "code",
   "execution_count": null,
   "metadata": {},
   "outputs": [],
   "source": [
    "print(f\"Accuracy: {round(all_equip.accuracy * 100, 2)}%\")"
   ]
  },
  {
   "cell_type": "code",
   "execution_count": null,
   "metadata": {},
   "outputs": [],
   "source": [
    "print(\"Classification Report\".upper().center(50))\n",
    "print(all_equip.class_report)"
   ]
  },
  {
   "cell_type": "code",
   "execution_count": null,
   "metadata": {},
   "outputs": [],
   "source": [
    "all_equip.plot_conf_matrix()"
   ]
  },
  {
   "cell_type": "code",
   "execution_count": null,
   "metadata": {},
   "outputs": [],
   "source": [
    "all_equip.scatter_3d_test_data()"
   ]
  },
  {
   "cell_type": "markdown",
   "metadata": {},
   "source": [
    "# <h1 style=\"font-size:20px\">Each equipment</h1>"
   ]
  },
  {
   "cell_type": "code",
   "execution_count": 20,
   "metadata": {},
   "outputs": [],
   "source": [
    "turbine = df[df[\"equipment\"] == \"Turbine\"]\n",
    "compressor = df[df[\"equipment\"] == \"Compressor\"]\n",
    "pump = df[df[\"equipment\"] == \"Pump\"]"
   ]
  },
  {
   "cell_type": "markdown",
   "metadata": {},
   "source": [
    "## <h1 style=\"font-size:20px\">Turbine</h1>"
   ]
  },
  {
   "cell_type": "markdown",
   "metadata": {},
   "source": [
    "### <h1 style=\"font-size:20px\">Analysis</h1>"
   ]
  },
  {
   "cell_type": "code",
   "execution_count": null,
   "metadata": {},
   "outputs": [],
   "source": [
    "turbine.describe()"
   ]
  },
  {
   "cell_type": "code",
   "execution_count": 30,
   "metadata": {},
   "outputs": [],
   "source": [
    "turb_analysis = Analysis(turbine)"
   ]
  },
  {
   "cell_type": "code",
   "execution_count": null,
   "metadata": {},
   "outputs": [],
   "source": [
    "turb_analysis.plot_kde"
   ]
  },
  {
   "cell_type": "code",
   "execution_count": null,
   "metadata": {},
   "outputs": [],
   "source": [
    "turb_analysis.plot_boxplot"
   ]
  },
  {
   "cell_type": "code",
   "execution_count": null,
   "metadata": {},
   "outputs": [],
   "source": [
    "turb_analysis.proportion"
   ]
  },
  {
   "cell_type": "code",
   "execution_count": null,
   "metadata": {},
   "outputs": [],
   "source": [
    "turb_analysis.outliers[\"temperature\"]"
   ]
  },
  {
   "cell_type": "code",
   "execution_count": null,
   "metadata": {},
   "outputs": [],
   "source": [
    "turb_analysis.correlation"
   ]
  },
  {
   "cell_type": "code",
   "execution_count": null,
   "metadata": {},
   "outputs": [],
   "source": [
    "turb_analysis.corr_heatmap"
   ]
  },
  {
   "cell_type": "code",
   "execution_count": null,
   "metadata": {},
   "outputs": [],
   "source": [
    "turb_analysis.logistic_plot"
   ]
  },
  {
   "cell_type": "markdown",
   "metadata": {},
   "source": [
    "### <h1 style=\"font-size:20px\">Machine Learning</h1>"
   ]
  },
  {
   "cell_type": "code",
   "execution_count": 38,
   "metadata": {},
   "outputs": [],
   "source": [
    "turbine_model = TrainedModel(turbine)"
   ]
  },
  {
   "cell_type": "code",
   "execution_count": null,
   "metadata": {},
   "outputs": [],
   "source": [
    "print(f\"Accuracy: {turbine_model.accuracy:.3f}\")\n",
    "print()\n",
    "\n",
    "# Precision has the best accuracy\n",
    "print(\"Classification Report:\".upper().center(50))\n",
    "print(turbine_model.class_report)"
   ]
  },
  {
   "cell_type": "code",
   "execution_count": null,
   "metadata": {},
   "outputs": [],
   "source": [
    "turbine_model.plot_conf_matrix()"
   ]
  },
  {
   "cell_type": "code",
   "execution_count": null,
   "metadata": {},
   "outputs": [],
   "source": [
    "turbine_model.scatter_3d_test_data()"
   ]
  },
  {
   "cell_type": "markdown",
   "metadata": {},
   "source": [
    "## <h1 style=\"font-size:20px\">Compressor</h1>"
   ]
  },
  {
   "cell_type": "markdown",
   "metadata": {},
   "source": [
    "### <h1 style=\"font-size:20px\">Analysis</h1>"
   ]
  },
  {
   "cell_type": "code",
   "execution_count": null,
   "metadata": {},
   "outputs": [],
   "source": [
    "compressor.describe()"
   ]
  },
  {
   "cell_type": "code",
   "execution_count": 43,
   "metadata": {},
   "outputs": [],
   "source": [
    "compr_analysis = Analysis(compressor)"
   ]
  },
  {
   "cell_type": "code",
   "execution_count": null,
   "metadata": {},
   "outputs": [],
   "source": [
    "compr_analysis.plot_kde"
   ]
  },
  {
   "cell_type": "code",
   "execution_count": null,
   "metadata": {},
   "outputs": [],
   "source": [
    "compr_analysis.plot_boxplot"
   ]
  },
  {
   "cell_type": "code",
   "execution_count": null,
   "metadata": {},
   "outputs": [],
   "source": [
    "compr_analysis.proportion"
   ]
  },
  {
   "cell_type": "code",
   "execution_count": null,
   "metadata": {},
   "outputs": [],
   "source": [
    "compr_analysis.outliers[\"temperature\"]"
   ]
  },
  {
   "cell_type": "code",
   "execution_count": null,
   "metadata": {},
   "outputs": [],
   "source": [
    "compr_analysis.correlation"
   ]
  },
  {
   "cell_type": "code",
   "execution_count": null,
   "metadata": {},
   "outputs": [],
   "source": [
    "compr_analysis.corr_heatmap"
   ]
  },
  {
   "cell_type": "code",
   "execution_count": null,
   "metadata": {},
   "outputs": [],
   "source": [
    "compr_analysis.logistic_plot"
   ]
  },
  {
   "cell_type": "markdown",
   "metadata": {},
   "source": [
    "### <h1 style=\"font-size:20px\">Machine Learning</h1>"
   ]
  },
  {
   "cell_type": "code",
   "execution_count": 51,
   "metadata": {},
   "outputs": [],
   "source": [
    "compressor_model = TrainedModel(compressor)"
   ]
  },
  {
   "cell_type": "code",
   "execution_count": null,
   "metadata": {},
   "outputs": [],
   "source": [
    "print(f\"Accuracy: {compressor_model.accuracy:.3f}\")\n",
    "print()\n",
    "\n",
    "# Precision has the best accuracy\n",
    "print(\"Classification Report:\")\n",
    "print(compressor_model.class_report)"
   ]
  },
  {
   "cell_type": "code",
   "execution_count": null,
   "metadata": {},
   "outputs": [],
   "source": [
    "compressor_model.plot_conf_matrix()"
   ]
  },
  {
   "cell_type": "code",
   "execution_count": null,
   "metadata": {},
   "outputs": [],
   "source": [
    "compressor_model.scatter_3d_test_data()"
   ]
  },
  {
   "cell_type": "markdown",
   "metadata": {},
   "source": [
    "## <h1 style=\"font-size:20px\">Pump</h1>"
   ]
  },
  {
   "cell_type": "markdown",
   "metadata": {},
   "source": [
    "### <h1 style=\"font-size:20px\">Analysis</h1>"
   ]
  },
  {
   "cell_type": "code",
   "execution_count": null,
   "metadata": {},
   "outputs": [],
   "source": [
    "pump.describe()"
   ]
  },
  {
   "cell_type": "code",
   "execution_count": 56,
   "metadata": {},
   "outputs": [],
   "source": [
    "pump_analysis = Analysis(pump)"
   ]
  },
  {
   "cell_type": "code",
   "execution_count": null,
   "metadata": {},
   "outputs": [],
   "source": [
    "pump_analysis.plot_kde"
   ]
  },
  {
   "cell_type": "code",
   "execution_count": null,
   "metadata": {},
   "outputs": [],
   "source": [
    "pump_analysis.plot_boxplot"
   ]
  },
  {
   "cell_type": "code",
   "execution_count": null,
   "metadata": {},
   "outputs": [],
   "source": [
    "pump_analysis.proportion"
   ]
  },
  {
   "cell_type": "code",
   "execution_count": null,
   "metadata": {},
   "outputs": [],
   "source": [
    "pump_analysis.outliers[\"temperature\"]"
   ]
  },
  {
   "cell_type": "code",
   "execution_count": null,
   "metadata": {},
   "outputs": [],
   "source": [
    "pump_analysis.correlation"
   ]
  },
  {
   "cell_type": "code",
   "execution_count": null,
   "metadata": {},
   "outputs": [],
   "source": [
    "pump_analysis.corr_heatmap"
   ]
  },
  {
   "cell_type": "code",
   "execution_count": null,
   "metadata": {},
   "outputs": [],
   "source": [
    "pump_analysis.logistic_plot"
   ]
  },
  {
   "cell_type": "markdown",
   "metadata": {},
   "source": [
    "### <h1 style=\"font-size:20px\">Machine Learning</h1>"
   ]
  },
  {
   "cell_type": "code",
   "execution_count": 21,
   "metadata": {},
   "outputs": [],
   "source": [
    "pump_model = TrainedModel(pump)"
   ]
  },
  {
   "cell_type": "code",
   "execution_count": null,
   "metadata": {},
   "outputs": [],
   "source": [
    "print(f\"Accuracy: {(pump_model.accuracy * 100):.2f}%\")"
   ]
  },
  {
   "cell_type": "code",
   "execution_count": null,
   "metadata": {},
   "outputs": [],
   "source": [
    "# Precision has the best accuracy\n",
    "print(\"Classification Report:\".upper().center(50))\n",
    "print(pump_model.class_report)"
   ]
  },
  {
   "cell_type": "code",
   "execution_count": null,
   "metadata": {},
   "outputs": [],
   "source": [
    "pump_model.plot_conf_matrix()"
   ]
  },
  {
   "cell_type": "code",
   "execution_count": null,
   "metadata": {},
   "outputs": [],
   "source": [
    "pump_model.scatter_3d_test_data()"
   ]
  }
 ],
 "metadata": {
  "kernelspec": {
   "display_name": "venv",
   "language": "python",
   "name": "python3"
  },
  "language_info": {
   "codemirror_mode": {
    "name": "ipython",
    "version": 3
   },
   "file_extension": ".py",
   "mimetype": "text/x-python",
   "name": "python",
   "nbconvert_exporter": "python",
   "pygments_lexer": "ipython3",
   "version": "3.12.8"
  }
 },
 "nbformat": 4,
 "nbformat_minor": 2
}
