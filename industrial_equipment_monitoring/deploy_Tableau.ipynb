{
 "cells": [
  {
   "cell_type": "code",
   "execution_count": 1,
   "metadata": {},
   "outputs": [],
   "source": [
    "from sklearn.model_selection import train_test_split, GridSearchCV\n",
    "from imblearn.over_sampling import SMOTE\n",
    "from imblearn.under_sampling import ClusterCentroids\n",
    "from imblearn.pipeline import Pipeline as ImbPipeline\n",
    "from sklearn.preprocessing import StandardScaler\n",
    "from sklearn.neighbors import KNeighborsClassifier\n",
    "from sklearn.ensemble import RandomForestClassifier\n",
    "from sklearn.linear_model import LogisticRegression\n",
    "import pandas as pd\n",
    "import numpy as np\n",
    "from scipy.stats import norm\n",
    "from tabpy.tabpy_tools.client import Client"
   ]
  },
  {
   "cell_type": "code",
   "execution_count": null,
   "metadata": {},
   "outputs": [],
   "source": [
    "# Deploy to Tableau\n",
    "def deploy_tableau(title, function, description):\n",
    "  client = Client('http://localhost:9004/')\n",
    "  client.deploy(\n",
    "    title,\n",
    "    function,\n",
    "    description,\n",
    "    override=True\n",
    "  )"
   ]
  },
  {
   "cell_type": "code",
   "execution_count": 2,
   "metadata": {},
   "outputs": [],
   "source": [
    "# Import data\n",
    "df = pd.read_csv(\"equipment_anomaly_data.csv\")"
   ]
  },
  {
   "cell_type": "code",
   "execution_count": 3,
   "metadata": {},
   "outputs": [],
   "source": [
    "# Split Independent variable (X) and Dependent variable (Y)\n",
    "X = df.drop(columns=[\"equipment\", \"location\", \"faulty\"]).values\n",
    "Y = df[\"faulty\"].values"
   ]
  },
  {
   "cell_type": "code",
   "execution_count": 4,
   "metadata": {},
   "outputs": [],
   "source": [
    "# Split train and test data\n",
    "X_train, X_test, y_train, y_test = train_test_split(\n",
    "  X,\n",
    "  Y,\n",
    "  test_size=0.2,\n",
    "  random_state=42\n",
    ")"
   ]
  },
  {
   "cell_type": "code",
   "execution_count": 5,
   "metadata": {},
   "outputs": [],
   "source": [
    "# Define pipeline\n",
    "pipeline = ImbPipeline([\n",
    "    ('scaler', StandardScaler()),\n",
    "    ('sampling', SMOTE()),  # Apply SMOTE for oversampling\n",
    "    ('cluster_under', ClusterCentroids()),  # Apply Cluster Centroids for undersampling\n",
    "    ('classifier', KNeighborsClassifier())\n",
    "])"
   ]
  },
  {
   "cell_type": "code",
   "execution_count": 6,
   "metadata": {},
   "outputs": [],
   "source": [
    "# Define hyperparameters for GridSearch\n",
    "param_grid = [\n",
    "  {\n",
    "      'classifier': [KNeighborsClassifier()],\n",
    "      'classifier__n_neighbors': [3, 5, 7]\n",
    "  },\n",
    "  {\n",
    "      'classifier': [RandomForestClassifier()],\n",
    "      'classifier__n_estimators': [50, 100, 200],\n",
    "      'classifier__max_depth': [None, 10, 20]\n",
    "  },\n",
    "  {\n",
    "      'classifier': [LogisticRegression(max_iter=1000)],\n",
    "      'classifier__C': [0.1, 1, 10],\n",
    "      'classifier__solver': ['liblinear', 'saga']\n",
    "  }\n",
    "]"
   ]
  },
  {
   "cell_type": "code",
   "execution_count": null,
   "metadata": {},
   "outputs": [],
   "source": [
    "# Execute GridSearch and Train Model\n",
    "grid_search = GridSearchCV(pipeline, param_grid, cv=5, n_jobs=-1)\n",
    "grid_search.fit(X_train, y_train)"
   ]
  },
  {
   "cell_type": "code",
   "execution_count": 9,
   "metadata": {},
   "outputs": [],
   "source": [
    "# Function to calculate the probability to classify given values as 'Faulty'\n",
    "def prob_faulty(_arg1,_arg2,_arg3,_arg4):\n",
    "  \"\"\"Calculate the probability to classify given values as 'Faulty'\n",
    "\n",
    "  Args:\n",
    "      _arg1 (float, list): Temperature\n",
    "      _arg2 (float, list): Pressure\n",
    "      _arg3 (float, list): Vibration\n",
    "      _arg4 (float, list): Humidity\n",
    "\n",
    "  Returns:\n",
    "      _type_: _description_\n",
    "  \"\"\"\n",
    "  input_data = np.column_stack([_arg1,_arg2,_arg3,_arg4])\n",
    "  X = pd.DataFrame(\n",
    "    input_data,\n",
    "    columns=[\"Temperature\", \"Pressure\", \"Vibration\", \"Humidity\"]\n",
    "  )\n",
    "  result = grid_search.predict_proba(X.values)[0][1]\n",
    "  return result.tolist()"
   ]
  },
  {
   "cell_type": "code",
   "execution_count": 11,
   "metadata": {},
   "outputs": [],
   "source": [
    "deploy_tableau(\n",
    "  \"Probability_Faulty\",\n",
    "  prob_faulty,\n",
    "  \"Return the probability to classify given values as Faulty\"\n",
    ")"
   ]
  },
  {
   "cell_type": "code",
   "execution_count": 13,
   "metadata": {},
   "outputs": [],
   "source": [
    "def norm_cdf(_arg1, _arg2, _arg3):\n",
    "  \"\"\"Return the Cumulative Distribution Function (CDF)\n",
    "\n",
    "  Args:\n",
    "      _arg1 (float): Pressure value_\n",
    "      _arg2 (float): Average Pressure\n",
    "      _arg3 (float): Std Pressure\n",
    "  \"\"\"\n",
    "  prob = norm.cdf(_arg1, loc=_arg2, scale=_arg3)\n",
    "  return prob.tolist()"
   ]
  },
  {
   "cell_type": "code",
   "execution_count": 15,
   "metadata": {},
   "outputs": [],
   "source": [
    "# Deploy to Tableau\n",
    "deploy_tableau('Probability_CDF', norm_cdf, 'Returns the probability CDF')"
   ]
  },
  {
   "cell_type": "code",
   "execution_count": 16,
   "metadata": {},
   "outputs": [],
   "source": [
    "def norm_range(_arg1, _arg2, _arg3, _arg4):\n",
    "  \"\"\"Return the probability inside a range\n",
    "\n",
    "  Args:\n",
    "      _arg1 (float): Lower Pressure value_\n",
    "      _arg2 (float): Upper Pressure value_\n",
    "      _arg3 (float): Average Pressure\n",
    "      _arg4 (float): Std Pressure\n",
    "  \"\"\"\n",
    "  prob_lower = norm.cdf(_arg1, loc=_arg3, scale=_arg4)\n",
    "  prob_upper = norm.cdf(_arg2, loc=_arg3, scale=_arg4)\n",
    "  prob = prob_upper - prob_lower\n",
    "  return prob.tolist()"
   ]
  },
  {
   "cell_type": "code",
   "execution_count": 18,
   "metadata": {},
   "outputs": [],
   "source": [
    "def norm_pdf(_arg1, _arg2, _arg3):\n",
    "  \"\"\"Return the Probability Density Function (PDF)\n",
    "\n",
    "  Args:\n",
    "      _arg1 (float): Pressure value_\n",
    "      _arg2 (float): Average Pressure\n",
    "      _arg3 (float): Std Pressure\n",
    "  \"\"\"\n",
    "  prob = norm.pdf(_arg1, loc=_arg2, scale=_arg3)\n",
    "  return prob.tolist()"
   ]
  }
 ],
 "metadata": {
  "kernelspec": {
   "display_name": "venv",
   "language": "python",
   "name": "python3"
  },
  "language_info": {
   "codemirror_mode": {
    "name": "ipython",
    "version": 3
   },
   "file_extension": ".py",
   "mimetype": "text/x-python",
   "name": "python",
   "nbconvert_exporter": "python",
   "pygments_lexer": "ipython3",
   "version": "3.12.8"
  }
 },
 "nbformat": 4,
 "nbformat_minor": 2
}
