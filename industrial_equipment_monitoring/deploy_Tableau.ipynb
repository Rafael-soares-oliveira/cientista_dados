{
 "cells": [
  {
   "cell_type": "code",
   "execution_count": 1,
   "metadata": {},
   "outputs": [],
   "source": [
    "from sklearn.model_selection import train_test_split, GridSearchCV\n",
    "from sklearn.metrics import accuracy_score, confusion_matrix, classification_report, precision_score,recall_score\n",
    "from sklearn.tree import DecisionTreeClassifier\n",
    "import pandas as pd\n",
    "import numpy as np\n",
    "from scipy.stats import norm\n",
    "from tabpy.tabpy_tools.client import Client\n",
    "from joblib import load"
   ]
  },
  {
   "cell_type": "code",
   "execution_count": null,
   "metadata": {},
   "outputs": [],
   "source": [
    "# Deploy to Tableau\n",
    "def deploy_tableau(title, function, description):\n",
    "  client = Client('http://localhost:9004/')\n",
    "  client.deploy(\n",
    "    title,\n",
    "    function,\n",
    "    description,\n",
    "    override=True\n",
    "  )"
   ]
  },
  {
   "cell_type": "code",
   "execution_count": 2,
   "metadata": {},
   "outputs": [],
   "source": [
    "# Import data\n",
    "df = pd.read_csv(\"equipment_anomaly_data.csv\")"
   ]
  },
  {
   "cell_type": "code",
   "execution_count": 9,
   "metadata": {},
   "outputs": [],
   "source": [
    "model = load(\"model_ML.pkl\")"
   ]
  },
  {
   "cell_type": "code",
   "execution_count": 10,
   "metadata": {},
   "outputs": [],
   "source": [
    "# Function to calculate the probability to classify given values as 'Faulty'\n",
    "def prob_faulty(_arg1,_arg2,_arg3,_arg4):\n",
    "  \"\"\"\n",
    "\n",
    "  Args:\n",
    "      _arg1 (float, list): Temperature\n",
    "      _arg2 (float, list): Pressure\n",
    "      _arg3 (float, list): Vibration\n",
    "      _arg4 (float, list): Humidity\n",
    "\n",
    "  Returns:\n",
    "      _type_: _description_\n",
    "  \"\"\"\n",
    "  input_data = np.column_stack([_arg1,_arg2,_arg3,_arg4])\n",
    "  result = model.predict_proba(input_data)[0][1]\n",
    "  return result.tolist()"
   ]
  },
  {
   "cell_type": "code",
   "execution_count": 11,
   "metadata": {},
   "outputs": [],
   "source": [
    "deploy_tableau(\n",
    "  \"Probability_Faulty\",\n",
    "  prob_faulty,\n",
    "  \"Return the probability to classify given values as Faulty\"\n",
    ")"
   ]
  },
  {
   "cell_type": "code",
   "execution_count": 13,
   "metadata": {},
   "outputs": [],
   "source": [
    "def norm_cdf(_arg1, _arg2, _arg3):\n",
    "  \"\"\"Return the Cumulative Distribution Function (CDF)\n",
    "\n",
    "  Args:\n",
    "      _arg1 (float): Pressure value_\n",
    "      _arg2 (float): Average Pressure\n",
    "      _arg3 (float): Std Pressure\n",
    "  \"\"\"\n",
    "  prob = norm.cdf(_arg1, loc=_arg2, scale=_arg3)\n",
    "  return prob.tolist()"
   ]
  },
  {
   "cell_type": "code",
   "execution_count": 15,
   "metadata": {},
   "outputs": [],
   "source": [
    "# Deploy to Tableau\n",
    "deploy_tableau('Probability_CDF', norm_cdf, 'Returns the probability CDF')"
   ]
  },
  {
   "cell_type": "code",
   "execution_count": 16,
   "metadata": {},
   "outputs": [],
   "source": [
    "def norm_range(_arg1, _arg2, _arg3, _arg4):\n",
    "  \"\"\"Return the probability inside a range\n",
    "\n",
    "  Args:\n",
    "      _arg1 (float): Lower Pressure value_\n",
    "      _arg2 (float): Upper Pressure value_\n",
    "      _arg3 (float): Average Pressure\n",
    "      _arg4 (float): Std Pressure\n",
    "  \"\"\"\n",
    "  prob_lower = norm.cdf(_arg1, loc=_arg3, scale=_arg4)\n",
    "  prob_upper = norm.cdf(_arg2, loc=_arg3, scale=_arg4)\n",
    "  prob = prob_upper - prob_lower\n",
    "  return prob.tolist()"
   ]
  },
  {
   "cell_type": "code",
   "execution_count": 18,
   "metadata": {},
   "outputs": [],
   "source": [
    "def norm_pdf(_arg1, _arg2, _arg3):\n",
    "  \"\"\"Return the Probability Density Function (PDF)\n",
    "\n",
    "  Args:\n",
    "      _arg1 (float): Pressure value_\n",
    "      _arg2 (float): Average Pressure\n",
    "      _arg3 (float): Std Pressure\n",
    "  \"\"\"\n",
    "  prob = norm.pdf(_arg1, loc=_arg2, scale=_arg3)\n",
    "  return prob.tolist()"
   ]
  }
 ],
 "metadata": {
  "kernelspec": {
   "display_name": "venv",
   "language": "python",
   "name": "python3"
  },
  "language_info": {
   "codemirror_mode": {
    "name": "ipython",
    "version": 3
   },
   "file_extension": ".py",
   "mimetype": "text/x-python",
   "name": "python",
   "nbconvert_exporter": "python",
   "pygments_lexer": "ipython3",
   "version": "3.12.8"
  }
 },
 "nbformat": 4,
 "nbformat_minor": 2
}
